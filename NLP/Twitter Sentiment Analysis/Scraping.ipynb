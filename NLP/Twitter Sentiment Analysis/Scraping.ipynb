{
 "cells": [
  {
   "cell_type": "code",
   "execution_count": 1,
   "metadata": {},
   "outputs": [],
   "source": [
    "import tweepy\n",
    "import pandas as pd\n",
    "import os\n",
    "\n",
    "consumer_key= \"3eHiFSShitZjBKALE2nuLwthM\"\n",
    "consumer_secret= \"rFIWxwfE82LFMzlQDsst7t4MgfrrMUQGQ1VYsfEputUmF3a7Th\"\n",
    "access_key= \"829757375263424513-Vw6tGIjqcYLZhatS4PMpVmUTxvzUpVu\"\n",
    "access_secret= \"67PJ37Vt3irnqNKnIF0zCiR4vMy0Fswodkhlvg0LhU6jh\"\n",
    "\n",
    "#Twitter Access\n",
    "auth = tweepy.OAuthHandler( consumer_key,consumer_secret)\n",
    "auth.set_access_token(access_key,access_secret)\n",
    "api = tweepy.API(auth,wait_on_rate_limit = True)"
   ]
  },
  {
   "cell_type": "code",
   "execution_count": 2,
   "metadata": {},
   "outputs": [],
   "source": [
    "# Function created to extract coordinates from tweet if it has coordinate info\n",
    "# Tweets tend to have null so important to run check\n",
    "# Make sure to run this cell as it is used in a lot of different functions below\n",
    "def extract_coordinates(row):\n",
    "    if row['Tweet Coordinates']:\n",
    "        return row['Tweet Coordinates']['coordinates']\n",
    "    else:\n",
    "        return None\n",
    "\n",
    "# Function created to extract place such as city, state or country from tweet if it has place info\n",
    "# Tweets tend to have null so important to run check\n",
    "# Make sure to run this cell as it is used in a lot of different functions below\n",
    "def extract_place(row):\n",
    "    if row['Place Info']:\n",
    "        return row['Place Info'].full_name\n",
    "    else:\n",
    "        return None"
   ]
  },
  {
   "cell_type": "code",
   "execution_count": 27,
   "metadata": {},
   "outputs": [],
   "source": [
    "text_query = '$AAL'\n",
    "max_tweets = 150\n",
    "until_date = '2020-10-04'\n",
    "# Creation of query method using parameters\n",
    "tweets = tweepy.Cursor(api.search,q=text_query,until = until_date, count = 100).items(max_tweets)\n",
    " \n",
    "# Pulling information from tweets iterable object\n",
    "# Add or remove tweet information you want in the below list comprehension\n",
    "tweets_list = [[tweet.text, tweet.created_at, tweet.id_str, tweet.user.name, \n",
    "                tweet.user.screen_name, tweet.user.id_str, tweet.user.location, \n",
    "                tweet.user.url, tweet.user.description, tweet.user.verified, tweet.user.followers_count, \n",
    "                tweet.user.friends_count, tweet.user.favourites_count, tweet.user.statuses_count, tweet.user.listed_count, \n",
    "                tweet.user.created_at, tweet.user.profile_image_url_https, tweet.user.default_profile, tweet.user.default_profile_image] for tweet in tweets]\n",
    "\n",
    "# Creation of dataframe from tweets_list\n",
    "# Add or remove columns as you remove tweet information\n",
    "tweets_df2 = pd.DataFrame(tweets_list,columns=['Tweet Text', 'Tweet Datetime', 'Tweet Id', 'Twitter Username', 'Twitter @ name',\n",
    "                                             'Twitter User Id', 'Twitter User Location', 'URL in Bio', 'Twitter Bio',\n",
    "                                             'User Verified Status', 'Users Following Count',\n",
    "                                             'Number users this account is following', 'Users Number of Likes', 'Users Tweet Count',\n",
    "                                             'Lists Containing User', 'Account Created Time', 'Profile Image URL',\n",
    "                                             'User Default Profile', 'User Default Profile Image'])"
   ]
  },
  {
   "cell_type": "code",
   "execution_count": 3,
   "metadata": {},
   "outputs": [],
   "source": [
    "text_query = '$AAL'\n",
    "max_tweets = 18000\n",
    "until_date = '2020-10-17'\n",
    "# Creation of query method using parameters\n",
    "tweets = tweepy.Cursor(api.search,q=text_query,until = until_date, count = 150,lang =\"en\",tweet_mode='extended').items(max_tweets)"
   ]
  },
  {
   "cell_type": "code",
   "execution_count": 4,
   "metadata": {},
   "outputs": [],
   "source": [
    "# Pulling information from tweets iterable object\n",
    "# Add or remove tweet information you want in the below list comprehension\n",
    "tweets_list = [[tweet.full_text, tweet.created_at,\n",
    "                tweet.user.followers_count, tweet.user.friends_count,\n",
    "                tweet.retweet_count, tweet.user.favourites_count,\n",
    "                tweet.retweeted\n",
    "               ] for tweet in tweets]\n",
    "\n",
    "# Creation of dataframe from tweets_list\n",
    "# Add or remove columns as you remove tweet information\n",
    "tweets_df = pd.DataFrame(tweets_list,columns=['Tweet content', 'Tweet Datetime',\n",
    "                                               'Followers','Following',\n",
    "                                               'RTs','Favs',\n",
    "                                               'Is a RT'])"
   ]
  },
  {
   "cell_type": "code",
   "execution_count": 5,
   "metadata": {},
   "outputs": [],
   "source": [
    "tweets_df['Date'] = tweets_df['Tweet Datetime'].dt.date\n",
    "tweets_df.drop('Tweet Datetime',axis=1,inplace=True)"
   ]
  },
  {
   "cell_type": "code",
   "execution_count": 6,
   "metadata": {},
   "outputs": [],
   "source": [
    "tweets_df.to_csv('$AAL2.csv',index=False)"
   ]
  },
  {
   "cell_type": "code",
   "execution_count": null,
   "metadata": {},
   "outputs": [],
   "source": []
  }
 ],
 "metadata": {
  "kernelspec": {
   "display_name": "Python 3",
   "language": "python",
   "name": "python3"
  },
  "language_info": {
   "codemirror_mode": {
    "name": "ipython",
    "version": 3
   },
   "file_extension": ".py",
   "mimetype": "text/x-python",
   "name": "python",
   "nbconvert_exporter": "python",
   "pygments_lexer": "ipython3",
   "version": "3.7.6"
  }
 },
 "nbformat": 4,
 "nbformat_minor": 4
}
