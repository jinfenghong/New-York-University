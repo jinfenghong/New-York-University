{
 "cells": [
  {
   "cell_type": "code",
   "execution_count": 1,
   "metadata": {},
   "outputs": [
    {
     "name": "stderr",
     "output_type": "stream",
     "text": [
      "C:\\Users\\abc33\\anaconda3\\lib\\site-packages\\pandas_datareader\\compat\\__init__.py:7: FutureWarning: pandas.util.testing is deprecated. Use the functions in the public API at pandas.testing instead.\n",
      "  from pandas.util.testing import assert_frame_equal\n"
     ]
    }
   ],
   "source": [
    "import pandas_datareader.data as web\n",
    "import pandas as pd\n",
    "import numpy as np\n",
    "import os\n",
    "import re\n",
    "import matplotlib.pyplot as plt\n",
    "import datetime as dt\n",
    "%matplotlib inline  "
   ]
  },
  {
   "cell_type": "code",
   "execution_count": 2,
   "metadata": {},
   "outputs": [
    {
     "data": {
      "text/plain": [
       "<matplotlib.axes._subplots.AxesSubplot at 0x18518e2ed88>"
      ]
     },
     "execution_count": 2,
     "metadata": {},
     "output_type": "execute_result"
    },
    {
     "data": {
      "image/png": "[encoded data removed]",
      "text/plain": [
       "<Figure size 720x432 with 1 Axes>"
      ]
     },
     "metadata": {
      "needs_background": "light"
     },
     "output_type": "display_data"
    }
   ],
   "source": [
    "def getYahooData(ticker):\n",
    "    #import pandas_datareader.data as web\n",
    "    start = dt.datetime(2020,1,1)\n",
    "    end =  dt.datetime(2020,11,14) #dt.datetime.now()\n",
    "\n",
    "    df_stock = web.DataReader(ticker, 'yahoo', start, end)\n",
    "    return df_stock\n",
    "\n",
    "stock = getYahooData('AAPL')\n",
    "stock['Adj Close'].plot(figsize=(10,6))"
   ]
  },
  {
   "cell_type": "code",
   "execution_count": 3,
   "metadata": {},
   "outputs": [
    {
     "data": {
      "text/html": [
       "<div>\n",
       "<style scoped>\n",
       "    .dataframe tbody tr th:only-of-type {\n",
       "        vertical-align: middle;\n",
       "    }\n",
       "\n",
       "    .dataframe tbody tr th {\n",
       "        vertical-align: top;\n",
       "    }\n",
       "\n",
       "    .dataframe thead th {\n",
       "        text-align: right;\n",
       "    }\n",
       "</style>\n",
       "<table border=\"1\" class=\"dataframe\">\n",
       "  <thead>\n",
       "    <tr style=\"text-align: right;\">\n",
       "      <th></th>\n",
       "      <th>Adj Close</th>\n",
       "      <th>return</th>\n",
       "      <th>PnL</th>\n",
       "      <th>max</th>\n",
       "    </tr>\n",
       "    <tr>\n",
       "      <th>Date</th>\n",
       "      <th></th>\n",
       "      <th></th>\n",
       "      <th></th>\n",
       "      <th></th>\n",
       "    </tr>\n",
       "  </thead>\n",
       "  <tbody>\n",
       "    <tr>\n",
       "      <th>2020-01-02</th>\n",
       "      <td>73.840042</td>\n",
       "      <td>NaN</td>\n",
       "      <td>NaN</td>\n",
       "      <td>73.840042</td>\n",
       "    </tr>\n",
       "    <tr>\n",
       "      <th>2020-01-03</th>\n",
       "      <td>73.122154</td>\n",
       "      <td>-0.009722</td>\n",
       "      <td>-0.009722</td>\n",
       "      <td>73.840042</td>\n",
       "    </tr>\n",
       "    <tr>\n",
       "      <th>2020-01-06</th>\n",
       "      <td>73.704819</td>\n",
       "      <td>0.007968</td>\n",
       "      <td>-0.001754</td>\n",
       "      <td>73.840042</td>\n",
       "    </tr>\n",
       "    <tr>\n",
       "      <th>2020-01-07</th>\n",
       "      <td>73.358185</td>\n",
       "      <td>-0.004703</td>\n",
       "      <td>-0.006457</td>\n",
       "      <td>73.840042</td>\n",
       "    </tr>\n",
       "    <tr>\n",
       "      <th>2020-01-08</th>\n",
       "      <td>74.538239</td>\n",
       "      <td>0.016086</td>\n",
       "      <td>0.009629</td>\n",
       "      <td>74.538239</td>\n",
       "    </tr>\n",
       "  </tbody>\n",
       "</table>\n",
       "</div>"
      ],
      "text/plain": [
       "            Adj Close    return       PnL        max\n",
       "Date                                                \n",
       "2020-01-02  73.840042       NaN       NaN  73.840042\n",
       "2020-01-03  73.122154 -0.009722 -0.009722  73.840042\n",
       "2020-01-06  73.704819  0.007968 -0.001754  73.840042\n",
       "2020-01-07  73.358185 -0.004703 -0.006457  73.840042\n",
       "2020-01-08  74.538239  0.016086  0.009629  74.538239"
      ]
     },
     "execution_count": 3,
     "metadata": {},
     "output_type": "execute_result"
    }
   ],
   "source": [
    "stock['return']=stock['Adj Close'].pct_change()\n",
    "stock['PnL']=stock['return'].cumsum()\n",
    "stock['max']=np.maximum.accumulate(stock['Adj Close'])\n",
    "del stock['High'],stock['Low'],stock['Open'],stock['Close'],stock['Volume']\n",
    "stock.head()"
   ]
  },
  {
   "cell_type": "code",
   "execution_count": 4,
   "metadata": {},
   "outputs": [
    {
     "name": "stderr",
     "output_type": "stream",
     "text": [
      "C:\\Users\\abc33\\anaconda3\\lib\\site-packages\\pandas\\core\\indexing.py:671: SettingWithCopyWarning: \n",
      "A value is trying to be set on a copy of a slice from a DataFrame\n",
      "\n",
      "See the caveats in the documentation: https://pandas.pydata.org/pandas-docs/stable/user_guide/indexing.html#returning-a-view-versus-a-copy\n",
      "  self._setitem_with_indexer(indexer, value)\n"
     ]
    }
   ],
   "source": [
    "# calculate max drawdown, depth, and recovery time\n",
    "stock['mdd'] = 0\n",
    "stock['mdepth'] = 0\n",
    "stock['recovery time'] = 0\n",
    "peak = -1 # peak index\n",
    "peak2 = -1 # peak2 index, recover = peak - peak2\n",
    "for i in range(0, len(stock)):\n",
    "    if stock['max'].iloc[i] == stock['Adj Close'].iloc[i]:\n",
    "        if peak == -1 and peak2 == -1:\n",
    "            peak = peak2 = i\n",
    "        else:\n",
    "            peak = i\n",
    "        \n",
    "        if stock['mdd'].iloc[i-1] > 0:\n",
    "            stock['mdepth'].iloc[i-1] = stock['mdd'].iloc[i-1]\n",
    "            stock['recovery time'].iloc[i] = peak - peak2\n",
    "        peak2 = peak\n",
    "        \n",
    "    else:\n",
    "        res = stock['max'].iloc[i] - stock['Adj Close'].iloc[i]\n",
    "        if res > stock['mdd'].iloc[i-1]:\n",
    "            stock['mdd'].iloc[i] = res \n",
    "        else:\n",
    "            stock['mdd'].iloc[i] = stock['mdd'].iloc[i-1]\n",
    "    "
   ]
  },
  {
   "cell_type": "code",
   "execution_count": 5,
   "metadata": {},
   "outputs": [],
   "source": [
    "stock.to_csv('result.csv')"
   ]
  },
  {
   "cell_type": "code",
   "execution_count": 6,
   "metadata": {},
   "outputs": [
    {
     "data": {
      "text/html": [
       "<div>\n",
       "<style scoped>\n",
       "    .dataframe tbody tr th:only-of-type {\n",
       "        vertical-align: middle;\n",
       "    }\n",
       "\n",
       "    .dataframe tbody tr th {\n",
       "        vertical-align: top;\n",
       "    }\n",
       "\n",
       "    .dataframe thead th {\n",
       "        text-align: right;\n",
       "    }\n",
       "</style>\n",
       "<table border=\"1\" class=\"dataframe\">\n",
       "  <thead>\n",
       "    <tr style=\"text-align: right;\">\n",
       "      <th></th>\n",
       "      <th>Adj Close</th>\n",
       "      <th>return</th>\n",
       "      <th>PnL</th>\n",
       "      <th>max</th>\n",
       "      <th>mdd</th>\n",
       "      <th>mdepth</th>\n",
       "      <th>recovery time</th>\n",
       "    </tr>\n",
       "    <tr>\n",
       "      <th>Date</th>\n",
       "      <th></th>\n",
       "      <th></th>\n",
       "      <th></th>\n",
       "      <th></th>\n",
       "      <th></th>\n",
       "      <th></th>\n",
       "      <th></th>\n",
       "    </tr>\n",
       "  </thead>\n",
       "  <tbody>\n",
       "    <tr>\n",
       "      <th>2020-01-02</th>\n",
       "      <td>73.840042</td>\n",
       "      <td>NaN</td>\n",
       "      <td>NaN</td>\n",
       "      <td>73.840042</td>\n",
       "      <td>0.000000</td>\n",
       "      <td>0.000000</td>\n",
       "      <td>0</td>\n",
       "    </tr>\n",
       "    <tr>\n",
       "      <th>2020-01-03</th>\n",
       "      <td>73.122154</td>\n",
       "      <td>-0.009722</td>\n",
       "      <td>-0.009722</td>\n",
       "      <td>73.840042</td>\n",
       "      <td>0.717888</td>\n",
       "      <td>0.000000</td>\n",
       "      <td>0</td>\n",
       "    </tr>\n",
       "    <tr>\n",
       "      <th>2020-01-06</th>\n",
       "      <td>73.704819</td>\n",
       "      <td>0.007968</td>\n",
       "      <td>-0.001754</td>\n",
       "      <td>73.840042</td>\n",
       "      <td>0.717888</td>\n",
       "      <td>0.000000</td>\n",
       "      <td>0</td>\n",
       "    </tr>\n",
       "    <tr>\n",
       "      <th>2020-01-07</th>\n",
       "      <td>73.358185</td>\n",
       "      <td>-0.004703</td>\n",
       "      <td>-0.006457</td>\n",
       "      <td>73.840042</td>\n",
       "      <td>0.717888</td>\n",
       "      <td>0.717888</td>\n",
       "      <td>0</td>\n",
       "    </tr>\n",
       "    <tr>\n",
       "      <th>2020-01-08</th>\n",
       "      <td>74.538239</td>\n",
       "      <td>0.016086</td>\n",
       "      <td>0.009629</td>\n",
       "      <td>74.538239</td>\n",
       "      <td>0.000000</td>\n",
       "      <td>0.000000</td>\n",
       "      <td>4</td>\n",
       "    </tr>\n",
       "    <tr>\n",
       "      <th>...</th>\n",
       "      <td>...</td>\n",
       "      <td>...</td>\n",
       "      <td>...</td>\n",
       "      <td>...</td>\n",
       "      <td>...</td>\n",
       "      <td>...</td>\n",
       "      <td>...</td>\n",
       "    </tr>\n",
       "    <tr>\n",
       "      <th>2020-11-09</th>\n",
       "      <td>116.320000</td>\n",
       "      <td>-0.019968</td>\n",
       "      <td>0.559028</td>\n",
       "      <td>133.948898</td>\n",
       "      <td>27.292908</td>\n",
       "      <td>0.000000</td>\n",
       "      <td>0</td>\n",
       "    </tr>\n",
       "    <tr>\n",
       "      <th>2020-11-10</th>\n",
       "      <td>115.970001</td>\n",
       "      <td>-0.003009</td>\n",
       "      <td>0.556019</td>\n",
       "      <td>133.948898</td>\n",
       "      <td>27.292908</td>\n",
       "      <td>0.000000</td>\n",
       "      <td>0</td>\n",
       "    </tr>\n",
       "    <tr>\n",
       "      <th>2020-11-11</th>\n",
       "      <td>119.489998</td>\n",
       "      <td>0.030353</td>\n",
       "      <td>0.586371</td>\n",
       "      <td>133.948898</td>\n",
       "      <td>27.292908</td>\n",
       "      <td>0.000000</td>\n",
       "      <td>0</td>\n",
       "    </tr>\n",
       "    <tr>\n",
       "      <th>2020-11-12</th>\n",
       "      <td>119.209999</td>\n",
       "      <td>-0.002343</td>\n",
       "      <td>0.584028</td>\n",
       "      <td>133.948898</td>\n",
       "      <td>27.292908</td>\n",
       "      <td>0.000000</td>\n",
       "      <td>0</td>\n",
       "    </tr>\n",
       "    <tr>\n",
       "      <th>2020-11-13</th>\n",
       "      <td>119.260002</td>\n",
       "      <td>0.000419</td>\n",
       "      <td>0.584447</td>\n",
       "      <td>133.948898</td>\n",
       "      <td>27.292908</td>\n",
       "      <td>0.000000</td>\n",
       "      <td>0</td>\n",
       "    </tr>\n",
       "  </tbody>\n",
       "</table>\n",
       "<p>221 rows × 7 columns</p>\n",
       "</div>"
      ],
      "text/plain": [
       "             Adj Close    return       PnL         max        mdd    mdepth  \\\n",
       "Date                                                                          \n",
       "2020-01-02   73.840042       NaN       NaN   73.840042   0.000000  0.000000   \n",
       "2020-01-03   73.122154 -0.009722 -0.009722   73.840042   0.717888  0.000000   \n",
       "2020-01-06   73.704819  0.007968 -0.001754   73.840042   0.717888  0.000000   \n",
       "2020-01-07   73.358185 -0.004703 -0.006457   73.840042   0.717888  0.717888   \n",
       "2020-01-08   74.538239  0.016086  0.009629   74.538239   0.000000  0.000000   \n",
       "...                ...       ...       ...         ...        ...       ...   \n",
       "2020-11-09  116.320000 -0.019968  0.559028  133.948898  27.292908  0.000000   \n",
       "2020-11-10  115.970001 -0.003009  0.556019  133.948898  27.292908  0.000000   \n",
       "2020-11-11  119.489998  0.030353  0.586371  133.948898  27.292908  0.000000   \n",
       "2020-11-12  119.209999 -0.002343  0.584028  133.948898  27.292908  0.000000   \n",
       "2020-11-13  119.260002  0.000419  0.584447  133.948898  27.292908  0.000000   \n",
       "\n",
       "            recovery time  \n",
       "Date                       \n",
       "2020-01-02              0  \n",
       "2020-01-03              0  \n",
       "2020-01-06              0  \n",
       "2020-01-07              0  \n",
       "2020-01-08              4  \n",
       "...                   ...  \n",
       "2020-11-09              0  \n",
       "2020-11-10              0  \n",
       "2020-11-11              0  \n",
       "2020-11-12              0  \n",
       "2020-11-13              0  \n",
       "\n",
       "[221 rows x 7 columns]"
      ]
     },
     "execution_count": 6,
     "metadata": {},
     "output_type": "execute_result"
    }
   ],
   "source": [
    "stock"
   ]
  },
  {
   "cell_type": "code",
   "execution_count": 7,
   "metadata": {},
   "outputs": [
    {
     "data": {
      "image/png": "[encoded data removed]",
      "text/plain": [
       "<Figure size 936x432 with 1 Axes>"
      ]
     },
     "metadata": {
      "needs_background": "light"
     },
     "output_type": "display_data"
    }
   ],
   "source": [
    "#plot mdd dot graph  \n",
    "time_of_drawdown = []\n",
    "plt.figure(figsize=(13,6))\n",
    "plt.xticks(rotation=90)\n",
    "for i in range(1,len(stock)):\n",
    "    if(stock['mdepth'].iloc[i] != 0):\n",
    "        pos = str(stock[stock['mdd'] == stock['mdepth'].iloc[i]].index.tolist()[0]).split()[0]\n",
    "        pos_data = str(stock[stock['Adj Close'] == stock.loc[pos,'max']].index.tolist()[0]).split()[0]\n",
    "        time_of_drawdown.append('({}'.format(pos_data) + ',' + '{})'.format(pos))\n",
    "        plt.plot(pos_data,stock.loc[pos_data,'Adj Close'],'o',color = 'green')\n",
    "        plt.plot(pos,stock.loc[pos,'Adj Close'],'o',color = 'red')"
   ]
  },
  {
   "cell_type": "code",
   "execution_count": 8,
   "metadata": {
    "scrolled": true
   },
   "outputs": [],
   "source": [
    "#plot mdd with adjust close price  \n",
    "time_of_drawdown = []\n",
    "df = pd.DataFrame(columns=['Date','Adj Close'])\n",
    "for i in range(1,len(stock)):\n",
    "    if(stock['mdepth'].iloc[i] != 0):\n",
    "        pos = str(stock[stock['mdd'] == stock['mdepth'].iloc[i]].index.tolist()[0]).split()[0]\n",
    "        pos_data = str(stock[stock['Adj Close'] == stock.loc[pos,'max']].index.tolist()[0]).split()[0]\n",
    "        \n",
    "        time_of_drawdown.append('({}'.format(pos_data) + ',' + '{})'.format(pos))\n",
    "        df = df.append({'Date':pos_data,'Adj Close':stock.loc[pos_data,'Adj Close']},ignore_index=True)\n",
    "        df = df.append({'Date':pos,'Adj Close':stock.loc[pos,'Adj Close']},ignore_index=True)\n",
    "df['Date']=pd.to_datetime(df['Date'])\n",
    "df = df.set_index('Date',drop=True)"
   ]
  },
  {
   "cell_type": "code",
   "execution_count": 9,
   "metadata": {},
   "outputs": [
    {
     "data": {
      "image/png": "[encoded data removed]",
      "text/plain": [
       "<Figure size 936x432 with 1 Axes>"
      ]
     },
     "metadata": {
      "needs_background": "light"
     },
     "output_type": "display_data"
    }
   ],
   "source": [
    "plt.figure(figsize=(13,6))\n",
    "plt.xticks(rotation=90)\n",
    "for i in range(len(df)):\n",
    "    plt.plot(stock['Adj Close'],color='blue')\n",
    "    plt.plot(df.index,df,'o',color='red')"
   ]
  },
  {
   "cell_type": "code",
   "execution_count": 10,
   "metadata": {},
   "outputs": [
    {
     "data": {
      "text/plain": [
       "['(2020-01-02,2020-01-03)',\n",
       " '(2020-01-13,2020-01-15)',\n",
       " '(2020-01-17,2020-01-21)',\n",
       " '(2020-01-23,2020-01-27)',\n",
       " '(2020-01-29,2020-02-03)',\n",
       " '(2020-02-06,2020-02-11)',\n",
       " '(2020-02-12,2020-03-23)',\n",
       " '(2020-06-03,2020-06-04)',\n",
       " '(2020-06-10,2020-06-11)',\n",
       " '(2020-06-23,2020-06-26)',\n",
       " '(2020-07-06,2020-07-07)',\n",
       " '(2020-07-10,2020-07-13)',\n",
       " '(2020-07-15,2020-07-17)',\n",
       " '(2020-07-20,2020-07-24)',\n",
       " '(2020-08-06,2020-08-11)',\n",
       " '(2020-08-13,2020-08-17)',\n",
       " '(2020-08-24,2020-08-25)',\n",
       " '(2020-08-26,2020-08-28)']"
      ]
     },
     "execution_count": 10,
     "metadata": {},
     "output_type": "execute_result"
    }
   ],
   "source": [
    "time_of_drawdown"
   ]
  },
  {
   "cell_type": "code",
   "execution_count": null,
   "metadata": {},
   "outputs": [],
   "source": []
  }
 ],
 "metadata": {
  "kernelspec": {
   "display_name": "Python 3",
   "language": "python",
   "name": "python3"
  },
  "language_info": {
   "codemirror_mode": {
    "name": "ipython",
    "version": 3
   },
   "file_extension": ".py",
   "mimetype": "text/x-python",
   "name": "python",
   "nbconvert_exporter": "python",
   "pygments_lexer": "ipython3",
   "version": "3.7.6"
  },
  "toc": {
   "base_numbering": 1,
   "nav_menu": {},
   "number_sections": true,
   "sideBar": true,
   "skip_h1_title": false,
   "title_cell": "Table of Contents",
   "title_sidebar": "Contents",
   "toc_cell": false,
   "toc_position": {},
   "toc_section_display": true,
   "toc_window_display": false
  }
 },
 "nbformat": 4,
 "nbformat_minor": 4
}
