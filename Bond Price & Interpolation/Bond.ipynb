{
 "cells": [
  {
   "cell_type": "code",
   "execution_count": 1,
   "metadata": {},
   "outputs": [],
   "source": [
    "import pandas as pd\n",
    "import numpy as np"
   ]
  },
  {
   "cell_type": "code",
   "execution_count": 2,
   "metadata": {},
   "outputs": [],
   "source": [
    "unit = {\"A\":5, \"B\":10, \"C\":5, \"D\":15}\n",
    "maturity = {\"A\":5, \"B\":7, \"C\":10, \"D\":15}\n",
    "coupon = {\"A\":0.05, \"B\":0.03, \"C\":0.01, \"D\":0.07}\n",
    "ytm = {\"A\":0.025, \"B\":0.03, \"C\":0.035, \"D\":0.035}\n",
    "bond = pd.DataFrame({\"unit\":unit,'maturity':maturity, 'coupon':coupon, \"ytm\":ytm})"
   ]
  },
  {
   "cell_type": "code",
   "execution_count": 3,
   "metadata": {
    "scrolled": true
   },
   "outputs": [],
   "source": [
    "def pv(bond, k):\n",
    "    pv = []\n",
    "    for i in range(len(bond)):\n",
    "        c = bond.iloc[i][2]*100/k\n",
    "        r = bond.iloc[i][3]/k\n",
    "        m = bond.iloc[i][1]*k\n",
    "        pv.append(c/r*(1-1/(1+r)**m)+100/(1+r)**m)\n",
    "    bond['pv'] = pv"
   ]
  },
  {
   "cell_type": "code",
   "execution_count": 4,
   "metadata": {},
   "outputs": [],
   "source": [
    "pv(bond, 2)"
   ]
  },
  {
   "cell_type": "code",
   "execution_count": 5,
   "metadata": {},
   "outputs": [],
   "source": [
    "def MD(bond,k):\n",
    "    md_ = []\n",
    "    for i in range(len(bond)):\n",
    "        m = int(bond.iloc[i][1])*k\n",
    "        c = bond.iloc[i][2]*100/k\n",
    "        r = bond.iloc[i][3]/k\n",
    "        pv = bond.iloc[i][4]\n",
    "        md = 0\n",
    "        t = 1/k\n",
    "        for j in range(1,m):\n",
    "            md += c/(1+r)**j/pv*t\n",
    "            \n",
    "            t += 1/k \n",
    "        md += (c+100)/(1+r)**m/pv*t\n",
    "        md_.append(md/(1+r))\n",
    "    bond['MD'] = md_"
   ]
  },
  {
   "cell_type": "code",
   "execution_count": 6,
   "metadata": {
    "scrolled": false
   },
   "outputs": [],
   "source": [
    "MD(bond,2)"
   ]
  },
  {
   "cell_type": "code",
   "execution_count": 7,
   "metadata": {},
   "outputs": [
    {
     "data": {
      "text/html": [
       "<div>\n",
       "<style scoped>\n",
       "    .dataframe tbody tr th:only-of-type {\n",
       "        vertical-align: middle;\n",
       "    }\n",
       "\n",
       "    .dataframe tbody tr th {\n",
       "        vertical-align: top;\n",
       "    }\n",
       "\n",
       "    .dataframe thead th {\n",
       "        text-align: right;\n",
       "    }\n",
       "</style>\n",
       "<table border=\"1\" class=\"dataframe\">\n",
       "  <thead>\n",
       "    <tr style=\"text-align: right;\">\n",
       "      <th></th>\n",
       "      <th>unit</th>\n",
       "      <th>maturity</th>\n",
       "      <th>coupon</th>\n",
       "      <th>ytm</th>\n",
       "      <th>pv</th>\n",
       "      <th>MD</th>\n",
       "    </tr>\n",
       "  </thead>\n",
       "  <tbody>\n",
       "    <tr>\n",
       "      <th>A</th>\n",
       "      <td>5</td>\n",
       "      <td>5</td>\n",
       "      <td>0.05</td>\n",
       "      <td>0.025</td>\n",
       "      <td>111.681907</td>\n",
       "      <td>4.462799</td>\n",
       "    </tr>\n",
       "    <tr>\n",
       "      <th>B</th>\n",
       "      <td>10</td>\n",
       "      <td>7</td>\n",
       "      <td>0.03</td>\n",
       "      <td>0.030</td>\n",
       "      <td>100.000000</td>\n",
       "      <td>6.271691</td>\n",
       "    </tr>\n",
       "    <tr>\n",
       "      <th>C</th>\n",
       "      <td>5</td>\n",
       "      <td>10</td>\n",
       "      <td>0.01</td>\n",
       "      <td>0.035</td>\n",
       "      <td>79.058898</td>\n",
       "      <td>9.303421</td>\n",
       "    </tr>\n",
       "    <tr>\n",
       "      <th>D</th>\n",
       "      <td>15</td>\n",
       "      <td>15</td>\n",
       "      <td>0.07</td>\n",
       "      <td>0.035</td>\n",
       "      <td>140.575236</td>\n",
       "      <td>10.261723</td>\n",
       "    </tr>\n",
       "  </tbody>\n",
       "</table>\n",
       "</div>"
      ],
      "text/plain": [
       "   unit  maturity  coupon    ytm          pv         MD\n",
       "A     5         5    0.05  0.025  111.681907   4.462799\n",
       "B    10         7    0.03  0.030  100.000000   6.271691\n",
       "C     5        10    0.01  0.035   79.058898   9.303421\n",
       "D    15        15    0.07  0.035  140.575236  10.261723"
      ]
     },
     "execution_count": 7,
     "metadata": {},
     "output_type": "execute_result"
    }
   ],
   "source": [
    "bond"
   ]
  },
  {
   "cell_type": "code",
   "execution_count": 8,
   "metadata": {},
   "outputs": [],
   "source": [
    "def Cx(bond,k):\n",
    "    cx_ = []\n",
    "    for i in range(len(bond)):\n",
    "        m = int(bond.iloc[i][1])*k\n",
    "        c = bond.iloc[i][2]*100/k\n",
    "        r = bond.iloc[i][3]/k\n",
    "        pv = bond.iloc[i][4]\n",
    "        cx = 0\n",
    "        for j in range(1, m):\n",
    "            cx += c/(1+r)**j*(j*j+j)\n",
    "        cx += (c+100)/(1+r)**m*(m*m+m)\n",
    "        cx_.append(cx/(k*k*pv*(1+r)**2))\n",
    "    bond['Cx'] = cx_"
   ]
  },
  {
   "cell_type": "code",
   "execution_count": 9,
   "metadata": {},
   "outputs": [],
   "source": [
    "Cx(bond,2)"
   ]
  },
  {
   "cell_type": "code",
   "execution_count": 10,
   "metadata": {},
   "outputs": [
    {
     "data": {
      "text/html": [
       "<div>\n",
       "<style scoped>\n",
       "    .dataframe tbody tr th:only-of-type {\n",
       "        vertical-align: middle;\n",
       "    }\n",
       "\n",
       "    .dataframe tbody tr th {\n",
       "        vertical-align: top;\n",
       "    }\n",
       "\n",
       "    .dataframe thead th {\n",
       "        text-align: right;\n",
       "    }\n",
       "</style>\n",
       "<table border=\"1\" class=\"dataframe\">\n",
       "  <thead>\n",
       "    <tr style=\"text-align: right;\">\n",
       "      <th></th>\n",
       "      <th>unit</th>\n",
       "      <th>maturity</th>\n",
       "      <th>coupon</th>\n",
       "      <th>ytm</th>\n",
       "      <th>pv</th>\n",
       "      <th>MD</th>\n",
       "      <th>Cx</th>\n",
       "    </tr>\n",
       "  </thead>\n",
       "  <tbody>\n",
       "    <tr>\n",
       "      <th>A</th>\n",
       "      <td>5</td>\n",
       "      <td>5</td>\n",
       "      <td>0.05</td>\n",
       "      <td>0.025</td>\n",
       "      <td>111.681907</td>\n",
       "      <td>4.462799</td>\n",
       "      <td>23.395571</td>\n",
       "    </tr>\n",
       "    <tr>\n",
       "      <th>B</th>\n",
       "      <td>10</td>\n",
       "      <td>7</td>\n",
       "      <td>0.03</td>\n",
       "      <td>0.030</td>\n",
       "      <td>100.000000</td>\n",
       "      <td>6.271691</td>\n",
       "      <td>44.848681</td>\n",
       "    </tr>\n",
       "    <tr>\n",
       "      <th>C</th>\n",
       "      <td>5</td>\n",
       "      <td>10</td>\n",
       "      <td>0.01</td>\n",
       "      <td>0.035</td>\n",
       "      <td>79.058898</td>\n",
       "      <td>9.303421</td>\n",
       "      <td>94.293080</td>\n",
       "    </tr>\n",
       "    <tr>\n",
       "      <th>D</th>\n",
       "      <td>15</td>\n",
       "      <td>15</td>\n",
       "      <td>0.07</td>\n",
       "      <td>0.035</td>\n",
       "      <td>140.575236</td>\n",
       "      <td>10.261723</td>\n",
       "      <td>135.347689</td>\n",
       "    </tr>\n",
       "  </tbody>\n",
       "</table>\n",
       "</div>"
      ],
      "text/plain": [
       "   unit  maturity  coupon    ytm          pv         MD          Cx\n",
       "A     5         5    0.05  0.025  111.681907   4.462799   23.395571\n",
       "B    10         7    0.03  0.030  100.000000   6.271691   44.848681\n",
       "C     5        10    0.01  0.035   79.058898   9.303421   94.293080\n",
       "D    15        15    0.07  0.035  140.575236  10.261723  135.347689"
      ]
     },
     "execution_count": 10,
     "metadata": {},
     "output_type": "execute_result"
    }
   ],
   "source": [
    "bond"
   ]
  },
  {
   "cell_type": "code",
   "execution_count": 11,
   "metadata": {},
   "outputs": [],
   "source": [
    "def portPV(bond):\n",
    "    v = 0\n",
    "    for i in range(len(bond)):\n",
    "        v += bond.iloc[i][4] * bond.iloc[i][0]\n",
    "    \n",
    "    return v"
   ]
  },
  {
   "cell_type": "code",
   "execution_count": 12,
   "metadata": {},
   "outputs": [
    {
     "data": {
      "text/plain": [
       "4062.332574023996"
      ]
     },
     "execution_count": 12,
     "metadata": {},
     "output_type": "execute_result"
    }
   ],
   "source": [
    "portPV(bond)"
   ]
  },
  {
   "cell_type": "code",
   "execution_count": 13,
   "metadata": {},
   "outputs": [],
   "source": [
    "def weight(bond):\n",
    "    v = portPV(bond)\n",
    "    \n",
    "    w = []\n",
    "    for i in range(len(bond)):\n",
    "        w.append(bond.iloc[i][4] * bond.iloc[i][0]/v)\n",
    "    bond['weight'] = w"
   ]
  },
  {
   "cell_type": "code",
   "execution_count": 14,
   "metadata": {},
   "outputs": [],
   "source": [
    "weight(bond)"
   ]
  },
  {
   "cell_type": "code",
   "execution_count": 15,
   "metadata": {},
   "outputs": [
    {
     "data": {
      "text/html": [
       "<div>\n",
       "<style scoped>\n",
       "    .dataframe tbody tr th:only-of-type {\n",
       "        vertical-align: middle;\n",
       "    }\n",
       "\n",
       "    .dataframe tbody tr th {\n",
       "        vertical-align: top;\n",
       "    }\n",
       "\n",
       "    .dataframe thead th {\n",
       "        text-align: right;\n",
       "    }\n",
       "</style>\n",
       "<table border=\"1\" class=\"dataframe\">\n",
       "  <thead>\n",
       "    <tr style=\"text-align: right;\">\n",
       "      <th></th>\n",
       "      <th>unit</th>\n",
       "      <th>maturity</th>\n",
       "      <th>coupon</th>\n",
       "      <th>ytm</th>\n",
       "      <th>pv</th>\n",
       "      <th>MD</th>\n",
       "      <th>Cx</th>\n",
       "      <th>weight</th>\n",
       "    </tr>\n",
       "  </thead>\n",
       "  <tbody>\n",
       "    <tr>\n",
       "      <th>A</th>\n",
       "      <td>5</td>\n",
       "      <td>5</td>\n",
       "      <td>0.05</td>\n",
       "      <td>0.025</td>\n",
       "      <td>111.681907</td>\n",
       "      <td>4.462799</td>\n",
       "      <td>23.395571</td>\n",
       "      <td>0.137460</td>\n",
       "    </tr>\n",
       "    <tr>\n",
       "      <th>B</th>\n",
       "      <td>10</td>\n",
       "      <td>7</td>\n",
       "      <td>0.03</td>\n",
       "      <td>0.030</td>\n",
       "      <td>100.000000</td>\n",
       "      <td>6.271691</td>\n",
       "      <td>44.848681</td>\n",
       "      <td>0.246164</td>\n",
       "    </tr>\n",
       "    <tr>\n",
       "      <th>C</th>\n",
       "      <td>5</td>\n",
       "      <td>10</td>\n",
       "      <td>0.01</td>\n",
       "      <td>0.035</td>\n",
       "      <td>79.058898</td>\n",
       "      <td>9.303421</td>\n",
       "      <td>94.293080</td>\n",
       "      <td>0.097307</td>\n",
       "    </tr>\n",
       "    <tr>\n",
       "      <th>D</th>\n",
       "      <td>15</td>\n",
       "      <td>15</td>\n",
       "      <td>0.07</td>\n",
       "      <td>0.035</td>\n",
       "      <td>140.575236</td>\n",
       "      <td>10.261723</td>\n",
       "      <td>135.347689</td>\n",
       "      <td>0.519068</td>\n",
       "    </tr>\n",
       "  </tbody>\n",
       "</table>\n",
       "</div>"
      ],
      "text/plain": [
       "   unit  maturity  coupon    ytm          pv         MD          Cx    weight\n",
       "A     5         5    0.05  0.025  111.681907   4.462799   23.395571  0.137460\n",
       "B    10         7    0.03  0.030  100.000000   6.271691   44.848681  0.246164\n",
       "C     5        10    0.01  0.035   79.058898   9.303421   94.293080  0.097307\n",
       "D    15        15    0.07  0.035  140.575236  10.261723  135.347689  0.519068"
      ]
     },
     "execution_count": 15,
     "metadata": {},
     "output_type": "execute_result"
    }
   ],
   "source": [
    "bond"
   ]
  },
  {
   "cell_type": "code",
   "execution_count": 16,
   "metadata": {},
   "outputs": [],
   "source": [
    "def portMD(bond):\n",
    "    p = 0\n",
    "    for i in range(len(bond)):\n",
    "        p += bond.iloc[i][5]*bond.iloc[i][7]\n",
    "    return p"
   ]
  },
  {
   "cell_type": "code",
   "execution_count": 17,
   "metadata": {},
   "outputs": [
    {
     "name": "stdout",
     "output_type": "stream",
     "text": [
      "8.389149202447218\n"
     ]
    }
   ],
   "source": [
    "print(portMD(bond))"
   ]
  },
  {
   "cell_type": "code",
   "execution_count": 18,
   "metadata": {},
   "outputs": [],
   "source": [
    "def portCx(bond):\n",
    "    p = 0\n",
    "    for i in range(len(bond)):\n",
    "        p += bond.iloc[i][6]*bond.iloc[i][7]\n",
    "    return p"
   ]
  },
  {
   "cell_type": "code",
   "execution_count": 19,
   "metadata": {},
   "outputs": [
    {
     "name": "stdout",
     "output_type": "stream",
     "text": [
      "93.68620612260227\n"
     ]
    }
   ],
   "source": [
    "print(portCx(bond))"
   ]
  },
  {
   "cell_type": "code",
   "execution_count": 20,
   "metadata": {},
   "outputs": [],
   "source": [
    "p = pd.Series(data = {\"pv\": portPV(bond), \"MD\":portMD(bond), \"Cx\":portCx(bond)},name='Portfolio')\n",
    "bond = bond.append(p,ignore_index=False)"
   ]
  },
  {
   "cell_type": "code",
   "execution_count": 21,
   "metadata": {
    "scrolled": true
   },
   "outputs": [
    {
     "data": {
      "text/html": [
       "<div>\n",
       "<style scoped>\n",
       "    .dataframe tbody tr th:only-of-type {\n",
       "        vertical-align: middle;\n",
       "    }\n",
       "\n",
       "    .dataframe tbody tr th {\n",
       "        vertical-align: top;\n",
       "    }\n",
       "\n",
       "    .dataframe thead th {\n",
       "        text-align: right;\n",
       "    }\n",
       "</style>\n",
       "<table border=\"1\" class=\"dataframe\">\n",
       "  <thead>\n",
       "    <tr style=\"text-align: right;\">\n",
       "      <th></th>\n",
       "      <th>unit</th>\n",
       "      <th>maturity</th>\n",
       "      <th>coupon</th>\n",
       "      <th>ytm</th>\n",
       "      <th>pv</th>\n",
       "      <th>MD</th>\n",
       "      <th>Cx</th>\n",
       "      <th>weight</th>\n",
       "    </tr>\n",
       "  </thead>\n",
       "  <tbody>\n",
       "    <tr>\n",
       "      <th>A</th>\n",
       "      <td>5.0</td>\n",
       "      <td>5.0</td>\n",
       "      <td>0.05</td>\n",
       "      <td>0.025</td>\n",
       "      <td>111.681907</td>\n",
       "      <td>4.462799</td>\n",
       "      <td>23.395571</td>\n",
       "      <td>0.137460</td>\n",
       "    </tr>\n",
       "    <tr>\n",
       "      <th>B</th>\n",
       "      <td>10.0</td>\n",
       "      <td>7.0</td>\n",
       "      <td>0.03</td>\n",
       "      <td>0.030</td>\n",
       "      <td>100.000000</td>\n",
       "      <td>6.271691</td>\n",
       "      <td>44.848681</td>\n",
       "      <td>0.246164</td>\n",
       "    </tr>\n",
       "    <tr>\n",
       "      <th>C</th>\n",
       "      <td>5.0</td>\n",
       "      <td>10.0</td>\n",
       "      <td>0.01</td>\n",
       "      <td>0.035</td>\n",
       "      <td>79.058898</td>\n",
       "      <td>9.303421</td>\n",
       "      <td>94.293080</td>\n",
       "      <td>0.097307</td>\n",
       "    </tr>\n",
       "    <tr>\n",
       "      <th>D</th>\n",
       "      <td>15.0</td>\n",
       "      <td>15.0</td>\n",
       "      <td>0.07</td>\n",
       "      <td>0.035</td>\n",
       "      <td>140.575236</td>\n",
       "      <td>10.261723</td>\n",
       "      <td>135.347689</td>\n",
       "      <td>0.519068</td>\n",
       "    </tr>\n",
       "    <tr>\n",
       "      <th>Portfolio</th>\n",
       "      <td>NaN</td>\n",
       "      <td>NaN</td>\n",
       "      <td>NaN</td>\n",
       "      <td>NaN</td>\n",
       "      <td>4062.332574</td>\n",
       "      <td>8.389149</td>\n",
       "      <td>93.686206</td>\n",
       "      <td>NaN</td>\n",
       "    </tr>\n",
       "  </tbody>\n",
       "</table>\n",
       "</div>"
      ],
      "text/plain": [
       "           unit  maturity  coupon    ytm           pv         MD          Cx  \\\n",
       "A           5.0       5.0    0.05  0.025   111.681907   4.462799   23.395571   \n",
       "B          10.0       7.0    0.03  0.030   100.000000   6.271691   44.848681   \n",
       "C           5.0      10.0    0.01  0.035    79.058898   9.303421   94.293080   \n",
       "D          15.0      15.0    0.07  0.035   140.575236  10.261723  135.347689   \n",
       "Portfolio   NaN       NaN     NaN    NaN  4062.332574   8.389149   93.686206   \n",
       "\n",
       "             weight  \n",
       "A          0.137460  \n",
       "B          0.246164  \n",
       "C          0.097307  \n",
       "D          0.519068  \n",
       "Portfolio       NaN  "
      ]
     },
     "execution_count": 21,
     "metadata": {},
     "output_type": "execute_result"
    }
   ],
   "source": [
    "bond"
   ]
  },
  {
   "cell_type": "code",
   "execution_count": 22,
   "metadata": {},
   "outputs": [],
   "source": [
    "unit = {\"E\":1, \"F\":1, \"G\":1}\n",
    "maturity = {\"E\":5, \"F\":10000, \"G\":12}\n",
    "coupon = {\"E\":0, \"F\":0.05, \"G\":0.03}\n",
    "ytm = {\"E\":0.03, \"F\":0.06, \"G\":0.035}\n",
    "bond2 = pd.DataFrame({\"unit\":unit,'maturity':maturity, 'coupon':coupon, \"ytm\":ytm})"
   ]
  },
  {
   "cell_type": "code",
   "execution_count": 23,
   "metadata": {},
   "outputs": [],
   "source": [
    "pv(bond2,2)\n",
    "MD(bond2,2)\n",
    "Cx(bond2,2)"
   ]
  },
  {
   "cell_type": "code",
   "execution_count": 24,
   "metadata": {},
   "outputs": [
    {
     "data": {
      "text/html": [
       "<div>\n",
       "<style scoped>\n",
       "    .dataframe tbody tr th:only-of-type {\n",
       "        vertical-align: middle;\n",
       "    }\n",
       "\n",
       "    .dataframe tbody tr th {\n",
       "        vertical-align: top;\n",
       "    }\n",
       "\n",
       "    .dataframe thead th {\n",
       "        text-align: right;\n",
       "    }\n",
       "</style>\n",
       "<table border=\"1\" class=\"dataframe\">\n",
       "  <thead>\n",
       "    <tr style=\"text-align: right;\">\n",
       "      <th></th>\n",
       "      <th>unit</th>\n",
       "      <th>maturity</th>\n",
       "      <th>coupon</th>\n",
       "      <th>ytm</th>\n",
       "      <th>pv</th>\n",
       "      <th>MD</th>\n",
       "      <th>Cx</th>\n",
       "    </tr>\n",
       "  </thead>\n",
       "  <tbody>\n",
       "    <tr>\n",
       "      <th>E</th>\n",
       "      <td>1</td>\n",
       "      <td>5</td>\n",
       "      <td>0.00</td>\n",
       "      <td>0.030</td>\n",
       "      <td>86.166723</td>\n",
       "      <td>4.926108</td>\n",
       "      <td>26.693198</td>\n",
       "    </tr>\n",
       "    <tr>\n",
       "      <th>F</th>\n",
       "      <td>1</td>\n",
       "      <td>10000</td>\n",
       "      <td>0.05</td>\n",
       "      <td>0.060</td>\n",
       "      <td>83.333333</td>\n",
       "      <td>16.666667</td>\n",
       "      <td>555.555556</td>\n",
       "    </tr>\n",
       "    <tr>\n",
       "      <th>G</th>\n",
       "      <td>1</td>\n",
       "      <td>12</td>\n",
       "      <td>0.03</td>\n",
       "      <td>0.035</td>\n",
       "      <td>95.134829</td>\n",
       "      <td>9.934654</td>\n",
       "      <td>114.905579</td>\n",
       "    </tr>\n",
       "  </tbody>\n",
       "</table>\n",
       "</div>"
      ],
      "text/plain": [
       "   unit  maturity  coupon    ytm         pv         MD          Cx\n",
       "E     1         5    0.00  0.030  86.166723   4.926108   26.693198\n",
       "F     1     10000    0.05  0.060  83.333333  16.666667  555.555556\n",
       "G     1        12    0.03  0.035  95.134829   9.934654  114.905579"
      ]
     },
     "execution_count": 24,
     "metadata": {},
     "output_type": "execute_result"
    }
   ],
   "source": [
    "bond2"
   ]
  },
  {
   "cell_type": "code",
   "execution_count": 25,
   "metadata": {},
   "outputs": [],
   "source": [
    "with pd.ExcelWriter('hw1.xlsx') as writer:\n",
    "    bond.to_excel(writer,sheet_name='ABCD')\n",
    "    bond2.to_excel(writer,sheet_name='EFG')"
   ]
  },
  {
   "cell_type": "code",
   "execution_count": 26,
   "metadata": {},
   "outputs": [
    {
     "name": "stdout",
     "output_type": "stream",
     "text": [
      "           unit  maturity  coupon    ytm           pv         MD          Cx  \\\n",
      "A           5.0       5.0    0.05  0.025   111.681907   4.462799   23.395571   \n",
      "B          10.0       7.0    0.03  0.030   100.000000   6.271691   44.848681   \n",
      "C           5.0      10.0    0.01  0.035    79.058898   9.303421   94.293080   \n",
      "D          15.0      15.0    0.07  0.035   140.575236  10.261723  135.347689   \n",
      "Portfolio   NaN       NaN     NaN    NaN  4062.332574   8.389149   93.686206   \n",
      "\n",
      "             weight  \n",
      "A          0.137460  \n",
      "B          0.246164  \n",
      "C          0.097307  \n",
      "D          0.519068  \n",
      "Portfolio       NaN  \n",
      "   unit  maturity  coupon    ytm         pv         MD          Cx\n",
      "E     1         5    0.00  0.030  86.166723   4.926108   26.693198\n",
      "F     1     10000    0.05  0.060  83.333333  16.666667  555.555556\n",
      "G     1        12    0.03  0.035  95.134829   9.934654  114.905579\n"
     ]
    }
   ],
   "source": [
    "print(bond)\n",
    "print(bond2)"
   ]
  },
  {
   "cell_type": "code",
   "execution_count": 27,
   "metadata": {},
   "outputs": [
    {
     "name": "stdout",
     "output_type": "stream",
     "text": [
      "[[  8.72   4.85  16.67]\n",
      " [101.37  28.28 555.56]\n",
      " [  1.     1.     1.  ]]\n",
      "[[-16.95862133]\n",
      " [ 13.55423347]\n",
      " [  4.40438786]]\n"
     ]
    }
   ],
   "source": [
    "import numpy as np\n",
    "\n",
    "P = np.array([[8.72, 4.85, 16.67], [101.37, 28.28, 555.56], [1, 1, 1]])\n",
    "# P_inv = np.linalg.inv(P)\n",
    "O = np.array([[-8.72], [1111.12], [1]])\n",
    "\n",
    "print(P)\n",
    "# X = A * P_inv\n",
    "# X = P_inv * A\n",
    "X = np.linalg.solve(P, O)\n",
    "print(X)"
   ]
  },
  {
   "cell_type": "code",
   "execution_count": 28,
   "metadata": {},
   "outputs": [
    {
     "name": "stdout",
     "output_type": "stream",
     "text": [
      "[[  8.72   4.85  16.67]\n",
      " [101.37   8.28 555.56]\n",
      " [  1.     1.     1.  ]]\n",
      "[[ 6.22164214]\n",
      " [-4.24975085]\n",
      " [-0.97189129]]\n"
     ]
    }
   ],
   "source": [
    "P = np.array([[8.72, 4.85, 16.67], [101.37, 8.28, 555.56], [1, 1, 1]])\n",
    "# P_inv = np.linalg.inv(P)\n",
    "O = np.array([[17.44], [55.556], [1]])\n",
    "\n",
    "print(P)\n",
    "# X = A * P_inv\n",
    "# X = P_inv * A\n",
    "X = np.linalg.solve(P, O)\n",
    "print(X)"
   ]
  },
  {
   "cell_type": "code",
   "execution_count": 29,
   "metadata": {},
   "outputs": [
    {
     "name": "stdout",
     "output_type": "stream",
     "text": [
      "[[  8.72   4.85  16.67]\n",
      " [101.37   8.28 555.56]\n",
      " [  1.     1.     1.  ]]\n",
      "[[-20.10726912]\n",
      " [ 15.67197881]\n",
      " [  5.43529031]]\n"
     ]
    }
   ],
   "source": [
    "P = np.array([[8.72, 4.85, 16.67], [101.37, 8.28, 555.56], [1, 1, 1]])\n",
    "# P_inv = np.linalg.inv(P)\n",
    "O = np.array([[-8.72], [1111.12], [1]])\n",
    "\n",
    "print(P)\n",
    "# X = A * P_inv\n",
    "# X = P_inv * A\n",
    "X = np.linalg.solve(P, O)\n",
    "print(X)"
   ]
  },
  {
   "cell_type": "code",
   "execution_count": 30,
   "metadata": {},
   "outputs": [
    {
     "name": "stdout",
     "output_type": "stream",
     "text": [
      "done\n"
     ]
    }
   ],
   "source": [
    "print('done')"
   ]
  }
 ],
 "metadata": {
  "kernelspec": {
   "display_name": "Python 3",
   "language": "python",
   "name": "python3"
  },
  "language_info": {
   "codemirror_mode": {
    "name": "ipython",
    "version": 3
   },
   "file_extension": ".py",
   "mimetype": "text/x-python",
   "name": "python",
   "nbconvert_exporter": "python",
   "pygments_lexer": "ipython3",
   "version": "3.7.6"
  }
 },
 "nbformat": 4,
 "nbformat_minor": 2
}
