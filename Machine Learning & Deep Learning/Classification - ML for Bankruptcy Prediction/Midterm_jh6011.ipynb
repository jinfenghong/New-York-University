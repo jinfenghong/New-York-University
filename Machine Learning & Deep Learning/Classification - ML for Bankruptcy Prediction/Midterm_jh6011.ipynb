{
 "cells": [
  {
   "cell_type": "markdown",
   "metadata": {},
   "source": [
    "# Please only run the final model in the \"Put all together\" section to save your time!!!"
   ]
  },
  {
   "cell_type": "code",
   "execution_count": 113,
   "metadata": {},
   "outputs": [],
   "source": [
    "import numpy as np\n",
    "import pandas as pd\n",
    "import os\n",
    "import matplotlib.pyplot as plt\n",
    "import seaborn as sns\n",
    "%matplotlib inline\n",
    "from sklearn.model_selection import train_test_split, cross_val_score\n",
    "from sklearn import linear_model, preprocessing, model_selection \n",
    "from sklearn.preprocessing import OneHotEncoder, OrdinalEncoder, LabelEncoder,StandardScaler\n",
    "from sklearn.metrics import accuracy_score\n",
    "from sklearn.compose import ColumnTransformer\n",
    "from sklearn.pipeline import Pipeline\n",
    "from sklearn.impute import SimpleImputer \n",
    "from sklearn.base import BaseEstimator, TransformerMixin\n",
    "from sklearn.model_selection import cross_val_predict\n",
    "from sklearn.metrics import confusion_matrix\n",
    "from sklearn.naive_bayes import GaussianNB\n",
    "from sklearn.model_selection import GridSearchCV\n",
    "from sklearn.tree import DecisionTreeClassifier\n",
    "from sklearn.ensemble import RandomForestClassifier\n",
    "from sklearn.svm import SVC\n",
    "from sklearn.neighbors import KNeighborsClassifier\n",
    "from sklearn.impute import KNNImputer"
   ]
  },
  {
   "cell_type": "markdown",
   "metadata": {},
   "source": [
    "# The Data\n",
    "\n",
    "Here's the code to get the data."
   ]
  },
  {
   "cell_type": "code",
   "execution_count": 114,
   "metadata": {},
   "outputs": [],
   "source": [
    "data_file = \"5th_yr.csv\""
   ]
  },
  {
   "cell_type": "code",
   "execution_count": 115,
   "metadata": {},
   "outputs": [],
   "source": [
    "# Note the use of *relative path*; your assignments should all use relative rather than absolute paths\n",
    "DATA_PATH = \"./data/midterm_project/bankruptcy/train\"\n",
    "\n",
    "data = pd.read_csv(os.path.join(DATA_PATH, data_file))"
   ]
  },
  {
   "cell_type": "code",
   "execution_count": 116,
   "metadata": {
    "scrolled": true
   },
   "outputs": [
    {
     "data": {
      "text/html": [
       "<div>\n",
       "<style scoped>\n",
       "    .dataframe tbody tr th:only-of-type {\n",
       "        vertical-align: middle;\n",
       "    }\n",
       "\n",
       "    .dataframe tbody tr th {\n",
       "        vertical-align: top;\n",
       "    }\n",
       "\n",
       "    .dataframe thead th {\n",
       "        text-align: right;\n",
       "    }\n",
       "</style>\n",
       "<table border=\"1\" class=\"dataframe\">\n",
       "  <thead>\n",
       "    <tr style=\"text-align: right;\">\n",
       "      <th></th>\n",
       "      <th>X1</th>\n",
       "      <th>X2</th>\n",
       "      <th>X3</th>\n",
       "      <th>X4</th>\n",
       "      <th>X5</th>\n",
       "      <th>X6</th>\n",
       "      <th>X7</th>\n",
       "      <th>X8</th>\n",
       "      <th>X9</th>\n",
       "      <th>X10</th>\n",
       "      <th>...</th>\n",
       "      <th>X57</th>\n",
       "      <th>X58</th>\n",
       "      <th>X59</th>\n",
       "      <th>X60</th>\n",
       "      <th>X61</th>\n",
       "      <th>X62</th>\n",
       "      <th>X63</th>\n",
       "      <th>X64</th>\n",
       "      <th>Bankrupt</th>\n",
       "      <th>Id</th>\n",
       "    </tr>\n",
       "  </thead>\n",
       "  <tbody>\n",
       "    <tr>\n",
       "      <th>4813</th>\n",
       "      <td>0.21199</td>\n",
       "      <td>0.20585</td>\n",
       "      <td>0.1417</td>\n",
       "      <td>1.7941</td>\n",
       "      <td>72.981</td>\n",
       "      <td>0</td>\n",
       "      <td>0.26531</td>\n",
       "      <td>3.8579</td>\n",
       "      <td>0.9842</td>\n",
       "      <td>0.79415</td>\n",
       "      <td>...</td>\n",
       "      <td>0.26694</td>\n",
       "      <td>0.73275</td>\n",
       "      <td>0.022101</td>\n",
       "      <td>?</td>\n",
       "      <td>3.5081</td>\n",
       "      <td>66.1710</td>\n",
       "      <td>5.516</td>\n",
       "      <td>1.4476</td>\n",
       "      <td>0</td>\n",
       "      <td>1985</td>\n",
       "    </tr>\n",
       "    <tr>\n",
       "      <th>4814</th>\n",
       "      <td>0.3119</td>\n",
       "      <td>0.09958</td>\n",
       "      <td>0.57936</td>\n",
       "      <td>10.679</td>\n",
       "      <td>245.98</td>\n",
       "      <td>0</td>\n",
       "      <td>0.31317</td>\n",
       "      <td>9.0422</td>\n",
       "      <td>1.0516</td>\n",
       "      <td>0.90042</td>\n",
       "      <td>...</td>\n",
       "      <td>0.3464</td>\n",
       "      <td>0.70705</td>\n",
       "      <td>0.044114</td>\n",
       "      <td>14.018</td>\n",
       "      <td>7.0618</td>\n",
       "      <td>20.7760</td>\n",
       "      <td>17.568</td>\n",
       "      <td>2.9149</td>\n",
       "      <td>0</td>\n",
       "      <td>3963</td>\n",
       "    </tr>\n",
       "    <tr>\n",
       "      <th>4815</th>\n",
       "      <td>-0.029746</td>\n",
       "      <td>0.44898</td>\n",
       "      <td>0.39136</td>\n",
       "      <td>1.9388</td>\n",
       "      <td>7.8073</td>\n",
       "      <td>-0.020006</td>\n",
       "      <td>-0.030561</td>\n",
       "      <td>1.2259</td>\n",
       "      <td>1.0001</td>\n",
       "      <td>0.5504</td>\n",
       "      <td>...</td>\n",
       "      <td>-0.054046</td>\n",
       "      <td>0.99986</td>\n",
       "      <td>0.058336</td>\n",
       "      <td>15.547</td>\n",
       "      <td>8.7022</td>\n",
       "      <td>34.3700</td>\n",
       "      <td>10.62</td>\n",
       "      <td>23.086</td>\n",
       "      <td>0</td>\n",
       "      <td>4167</td>\n",
       "    </tr>\n",
       "    <tr>\n",
       "      <th>4816</th>\n",
       "      <td>0.28473</td>\n",
       "      <td>0.079573</td>\n",
       "      <td>0.46261</td>\n",
       "      <td>6.8137</td>\n",
       "      <td>-81.158</td>\n",
       "      <td>-0.79551</td>\n",
       "      <td>0.28473</td>\n",
       "      <td>11.567</td>\n",
       "      <td>6.0718</td>\n",
       "      <td>0.92043</td>\n",
       "      <td>...</td>\n",
       "      <td>0.30935</td>\n",
       "      <td>0.19889</td>\n",
       "      <td>0</td>\n",
       "      <td>?</td>\n",
       "      <td>28.5</td>\n",
       "      <td>4.7834</td>\n",
       "      <td>76.305</td>\n",
       "      <td>13.263</td>\n",
       "      <td>0</td>\n",
       "      <td>1579</td>\n",
       "    </tr>\n",
       "    <tr>\n",
       "      <th>4817</th>\n",
       "      <td>0.12009</td>\n",
       "      <td>0.63072</td>\n",
       "      <td>-0.10501</td>\n",
       "      <td>0.81336</td>\n",
       "      <td>-43.226</td>\n",
       "      <td>-0.17492</td>\n",
       "      <td>0.15424</td>\n",
       "      <td>0.5855</td>\n",
       "      <td>3.1990</td>\n",
       "      <td>0.36928</td>\n",
       "      <td>...</td>\n",
       "      <td>0.3252</td>\n",
       "      <td>0.04347</td>\n",
       "      <td>0</td>\n",
       "      <td>12.825</td>\n",
       "      <td>16.441</td>\n",
       "      <td>64.1950</td>\n",
       "      <td>5.6858</td>\n",
       "      <td>5.8982</td>\n",
       "      <td>0</td>\n",
       "      <td>3294</td>\n",
       "    </tr>\n",
       "  </tbody>\n",
       "</table>\n",
       "<p>5 rows × 66 columns</p>\n",
       "</div>"
      ],
      "text/plain": [
       "             X1        X2        X3       X4       X5         X6         X7  \\\n",
       "4813    0.21199   0.20585    0.1417   1.7941   72.981          0    0.26531   \n",
       "4814     0.3119   0.09958   0.57936   10.679   245.98          0    0.31317   \n",
       "4815  -0.029746   0.44898   0.39136   1.9388   7.8073  -0.020006  -0.030561   \n",
       "4816    0.28473  0.079573   0.46261   6.8137  -81.158   -0.79551    0.28473   \n",
       "4817    0.12009   0.63072  -0.10501  0.81336  -43.226   -0.17492    0.15424   \n",
       "\n",
       "          X8      X9      X10  ...        X57      X58       X59     X60  \\\n",
       "4813  3.8579  0.9842  0.79415  ...    0.26694  0.73275  0.022101       ?   \n",
       "4814  9.0422  1.0516  0.90042  ...     0.3464  0.70705  0.044114  14.018   \n",
       "4815  1.2259  1.0001   0.5504  ...  -0.054046  0.99986  0.058336  15.547   \n",
       "4816  11.567  6.0718  0.92043  ...    0.30935  0.19889         0       ?   \n",
       "4817  0.5855  3.1990  0.36928  ...     0.3252  0.04347         0  12.825   \n",
       "\n",
       "         X61      X62     X63     X64  Bankrupt    Id  \n",
       "4813  3.5081  66.1710   5.516  1.4476         0  1985  \n",
       "4814  7.0618  20.7760  17.568  2.9149         0  3963  \n",
       "4815  8.7022  34.3700   10.62  23.086         0  4167  \n",
       "4816    28.5   4.7834  76.305  13.263         0  1579  \n",
       "4817  16.441  64.1950  5.6858  5.8982         0  3294  \n",
       "\n",
       "[5 rows x 66 columns]"
      ]
     },
     "execution_count": 116,
     "metadata": {},
     "output_type": "execute_result"
    }
   ],
   "source": [
    "data.tail()"
   ]
  },
  {
   "cell_type": "markdown",
   "metadata": {},
   "source": [
    "# Data Preprocessing and Features Engineering"
   ]
  },
  {
   "cell_type": "markdown",
   "metadata": {},
   "source": [
    "### 1.1 Replace all non-numerical data to NaN"
   ]
  },
  {
   "cell_type": "markdown",
   "metadata": {},
   "source": [
    "***As we know from data table, the missing value in the dataset are \"?\" instead of np.NaN, the following function is helping us to replace \"?\" by np.nan***"
   ]
  },
  {
   "cell_type": "code",
   "execution_count": 117,
   "metadata": {},
   "outputs": [],
   "source": [
    "def isnumber(x):\n",
    "    try:\n",
    "        float(x)\n",
    "        return True\n",
    "    except:\n",
    "        return False\n",
    "\n",
    "data = data[data.applymap(isnumber)]"
   ]
  },
  {
   "cell_type": "code",
   "execution_count": 118,
   "metadata": {
    "scrolled": false
   },
   "outputs": [
    {
     "data": {
      "text/plain": [
       "X24     116\n",
       "X27     305\n",
       "X37    2068\n",
       "X45     220\n",
       "X60     220\n",
       "Name: data_NULL, dtype: int64"
      ]
     },
     "execution_count": 118,
     "metadata": {},
     "output_type": "execute_result"
    }
   ],
   "source": [
    "temp = pd.DataFrame({\"data_NULL\":data.isnull().sum()})\n",
    "temp[temp.data_NULL>100].data_NULL"
   ]
  },
  {
   "cell_type": "markdown",
   "metadata": {},
   "source": [
    "***When we split the data into y_train, and X_train dataset, since X37 has almost missed 50% data, we should drop this feature; and we also need to drop Id feature, because it does not contribute to our result***"
   ]
  },
  {
   "cell_type": "markdown",
   "metadata": {},
   "source": [
    "### 1.2 Change all string types to float type since they are supposed to be numerical data shown above"
   ]
  },
  {
   "cell_type": "markdown",
   "metadata": {},
   "source": [
    "***from first 10 columns we can know that some features should be numerical but their type are categorical***"
   ]
  },
  {
   "cell_type": "code",
   "execution_count": 119,
   "metadata": {
    "scrolled": false
   },
   "outputs": [
    {
     "name": "stdout",
     "output_type": "stream",
     "text": [
      "<class 'pandas.core.frame.DataFrame'>\n",
      "RangeIndex: 4818 entries, 0 to 4817\n",
      "Data columns (total 10 columns):\n",
      " #   Column  Non-Null Count  Dtype  \n",
      "---  ------  --------------  -----  \n",
      " 0   X1      4816 non-null   object \n",
      " 1   X2      4816 non-null   object \n",
      " 2   X3      4816 non-null   object \n",
      " 3   X4      4803 non-null   object \n",
      " 4   X5      4808 non-null   object \n",
      " 5   X6      4816 non-null   object \n",
      " 6   X7      4816 non-null   object \n",
      " 7   X8      4804 non-null   object \n",
      " 8   X9      4818 non-null   float64\n",
      " 9   X10     4816 non-null   object \n",
      "dtypes: float64(1), object(9)\n",
      "memory usage: 376.5+ KB\n"
     ]
    }
   ],
   "source": [
    "data.iloc[:,:10].info()"
   ]
  },
  {
   "cell_type": "markdown",
   "metadata": {},
   "source": [
    "**Convert categorical to numerical**"
   ]
  },
  {
   "cell_type": "code",
   "execution_count": 120,
   "metadata": {},
   "outputs": [],
   "source": [
    "data.loc[:, 'X1':'X64']=data.loc[:,'X1':'X64'].apply(lambda x: x.astype(float))"
   ]
  },
  {
   "cell_type": "code",
   "execution_count": 121,
   "metadata": {},
   "outputs": [
    {
     "name": "stdout",
     "output_type": "stream",
     "text": [
      "<class 'pandas.core.frame.DataFrame'>\n",
      "RangeIndex: 4818 entries, 0 to 4817\n",
      "Data columns (total 10 columns):\n",
      " #   Column  Non-Null Count  Dtype  \n",
      "---  ------  --------------  -----  \n",
      " 0   X1      4816 non-null   float64\n",
      " 1   X2      4816 non-null   float64\n",
      " 2   X3      4816 non-null   float64\n",
      " 3   X4      4803 non-null   float64\n",
      " 4   X5      4808 non-null   float64\n",
      " 5   X6      4816 non-null   float64\n",
      " 6   X7      4816 non-null   float64\n",
      " 7   X8      4804 non-null   float64\n",
      " 8   X9      4818 non-null   float64\n",
      " 9   X10     4816 non-null   float64\n",
      "dtypes: float64(10)\n",
      "memory usage: 376.5 KB\n"
     ]
    }
   ],
   "source": [
    "data.iloc[:,:10].info()"
   ]
  },
  {
   "cell_type": "markdown",
   "metadata": {},
   "source": [
    "### 2. Clean and Transform data"
   ]
  },
  {
   "cell_type": "code",
   "execution_count": 122,
   "metadata": {},
   "outputs": [],
   "source": [
    "y_train = data['Bankrupt']\n",
    "\n",
    "# delete X37, since we miss about half data\n",
    "df = data.copy()\n",
    "data.drop(columns=['X37','Id','Bankrupt'],inplace=True)"
   ]
  },
  {
   "cell_type": "markdown",
   "metadata": {},
   "source": [
    "**Add one new features that calculate the number of missing data of each company, it's most likely that if a company miss more data, it may go bankrupt**"
   ]
  },
  {
   "cell_type": "code",
   "execution_count": 123,
   "metadata": {},
   "outputs": [],
   "source": [
    "data['missing'] = df.isnull().sum(axis=1)"
   ]
  },
  {
   "cell_type": "markdown",
   "metadata": {},
   "source": [
    "**Scaling the data such that some features have much larger or smaller values that others**"
   ]
  },
  {
   "cell_type": "code",
   "execution_count": 124,
   "metadata": {
    "scrolled": true
   },
   "outputs": [
    {
     "data": {
      "text/html": [
       "<div>\n",
       "<style scoped>\n",
       "    .dataframe tbody tr th:only-of-type {\n",
       "        vertical-align: middle;\n",
       "    }\n",
       "\n",
       "    .dataframe tbody tr th {\n",
       "        vertical-align: top;\n",
       "    }\n",
       "\n",
       "    .dataframe thead th {\n",
       "        text-align: right;\n",
       "    }\n",
       "</style>\n",
       "<table border=\"1\" class=\"dataframe\">\n",
       "  <thead>\n",
       "    <tr style=\"text-align: right;\">\n",
       "      <th></th>\n",
       "      <th>X1</th>\n",
       "      <th>X2</th>\n",
       "      <th>X3</th>\n",
       "      <th>X4</th>\n",
       "      <th>X5</th>\n",
       "      <th>X6</th>\n",
       "      <th>X7</th>\n",
       "      <th>X8</th>\n",
       "      <th>X9</th>\n",
       "      <th>X10</th>\n",
       "      <th>...</th>\n",
       "      <th>X56</th>\n",
       "      <th>X57</th>\n",
       "      <th>X58</th>\n",
       "      <th>X59</th>\n",
       "      <th>X60</th>\n",
       "      <th>X61</th>\n",
       "      <th>X62</th>\n",
       "      <th>X63</th>\n",
       "      <th>X64</th>\n",
       "      <th>missing</th>\n",
       "    </tr>\n",
       "  </thead>\n",
       "  <tbody>\n",
       "    <tr>\n",
       "      <th>count</th>\n",
       "      <td>4816.000000</td>\n",
       "      <td>4816.000000</td>\n",
       "      <td>4816.000000</td>\n",
       "      <td>4803.000000</td>\n",
       "      <td>4.808000e+03</td>\n",
       "      <td>4816.000000</td>\n",
       "      <td>4816.000000</td>\n",
       "      <td>4804.000000</td>\n",
       "      <td>4818.000000</td>\n",
       "      <td>4816.000000</td>\n",
       "      <td>...</td>\n",
       "      <td>4818.000000</td>\n",
       "      <td>4816.000000</td>\n",
       "      <td>4818.000000</td>\n",
       "      <td>4816.000000</td>\n",
       "      <td>4.598000e+03</td>\n",
       "      <td>4806.000000</td>\n",
       "      <td>4818.000000</td>\n",
       "      <td>4803.000000</td>\n",
       "      <td>4735.000000</td>\n",
       "      <td>4818.000000</td>\n",
       "    </tr>\n",
       "    <tr>\n",
       "      <th>mean</th>\n",
       "      <td>-0.055232</td>\n",
       "      <td>0.533272</td>\n",
       "      <td>0.188992</td>\n",
       "      <td>4.978602</td>\n",
       "      <td>1.956441e+01</td>\n",
       "      <td>-0.070060</td>\n",
       "      <td>-0.042516</td>\n",
       "      <td>5.739985</td>\n",
       "      <td>1.579277</td>\n",
       "      <td>0.503606</td>\n",
       "      <td>...</td>\n",
       "      <td>0.056109</td>\n",
       "      <td>0.022793</td>\n",
       "      <td>0.959585</td>\n",
       "      <td>0.273025</td>\n",
       "      <td>1.108795e+03</td>\n",
       "      <td>11.021303</td>\n",
       "      <td>177.494445</td>\n",
       "      <td>9.287631</td>\n",
       "      <td>38.557533</td>\n",
       "      <td>0.776671</td>\n",
       "    </tr>\n",
       "    <tr>\n",
       "      <th>std</th>\n",
       "      <td>6.707351</td>\n",
       "      <td>1.202909</td>\n",
       "      <td>1.282430</td>\n",
       "      <td>100.273952</td>\n",
       "      <td>2.384491e+04</td>\n",
       "      <td>7.778523</td>\n",
       "      <td>6.707970</td>\n",
       "      <td>109.508001</td>\n",
       "      <td>1.342723</td>\n",
       "      <td>4.044036</td>\n",
       "      <td>...</td>\n",
       "      <td>0.755462</td>\n",
       "      <td>7.249022</td>\n",
       "      <td>0.932427</td>\n",
       "      <td>6.338601</td>\n",
       "      <td>7.106563e+04</td>\n",
       "      <td>43.821146</td>\n",
       "      <td>2279.713700</td>\n",
       "      <td>113.225922</td>\n",
       "      <td>588.711967</td>\n",
       "      <td>1.488848</td>\n",
       "    </tr>\n",
       "    <tr>\n",
       "      <th>min</th>\n",
       "      <td>-463.890000</td>\n",
       "      <td>0.000000</td>\n",
       "      <td>-72.067000</td>\n",
       "      <td>0.000000</td>\n",
       "      <td>-1.076400e+06</td>\n",
       "      <td>-463.890000</td>\n",
       "      <td>-463.890000</td>\n",
       "      <td>-3.735100</td>\n",
       "      <td>0.000191</td>\n",
       "      <td>-71.444000</td>\n",
       "      <td>...</td>\n",
       "      <td>-46.788000</td>\n",
       "      <td>-468.670000</td>\n",
       "      <td>-0.085920</td>\n",
       "      <td>-184.980000</td>\n",
       "      <td>-1.244000e+01</td>\n",
       "      <td>-0.092493</td>\n",
       "      <td>0.000000</td>\n",
       "      <td>0.000000</td>\n",
       "      <td>-3.726500</td>\n",
       "      <td>0.000000</td>\n",
       "    </tr>\n",
       "    <tr>\n",
       "      <th>25%</th>\n",
       "      <td>0.004047</td>\n",
       "      <td>0.254670</td>\n",
       "      <td>0.044923</td>\n",
       "      <td>1.099200</td>\n",
       "      <td>-4.312000e+01</td>\n",
       "      <td>0.000000</td>\n",
       "      <td>0.005985</td>\n",
       "      <td>0.481588</td>\n",
       "      <td>1.015600</td>\n",
       "      <td>0.318990</td>\n",
       "      <td>...</td>\n",
       "      <td>0.011478</td>\n",
       "      <td>0.015574</td>\n",
       "      <td>0.876940</td>\n",
       "      <td>0.000000</td>\n",
       "      <td>5.298300e+00</td>\n",
       "      <td>4.229925</td>\n",
       "      <td>45.065750</td>\n",
       "      <td>3.074350</td>\n",
       "      <td>2.114850</td>\n",
       "      <td>0.000000</td>\n",
       "    </tr>\n",
       "    <tr>\n",
       "      <th>50%</th>\n",
       "      <td>0.046487</td>\n",
       "      <td>0.451495</td>\n",
       "      <td>0.218560</td>\n",
       "      <td>1.642300</td>\n",
       "      <td>3.673450e-01</td>\n",
       "      <td>0.000000</td>\n",
       "      <td>0.056685</td>\n",
       "      <td>1.149000</td>\n",
       "      <td>1.140500</td>\n",
       "      <td>0.522325</td>\n",
       "      <td>...</td>\n",
       "      <td>0.053663</td>\n",
       "      <td>0.108940</td>\n",
       "      <td>0.950825</td>\n",
       "      <td>0.006320</td>\n",
       "      <td>9.038900e+00</td>\n",
       "      <td>6.176800</td>\n",
       "      <td>73.879500</td>\n",
       "      <td>4.928700</td>\n",
       "      <td>4.077200</td>\n",
       "      <td>0.000000</td>\n",
       "    </tr>\n",
       "    <tr>\n",
       "      <th>75%</th>\n",
       "      <td>0.116730</td>\n",
       "      <td>0.662177</td>\n",
       "      <td>0.420153</td>\n",
       "      <td>2.929200</td>\n",
       "      <td>4.986775e+01</td>\n",
       "      <td>0.110470</td>\n",
       "      <td>0.136025</td>\n",
       "      <td>2.781300</td>\n",
       "      <td>1.814050</td>\n",
       "      <td>0.721823</td>\n",
       "      <td>...</td>\n",
       "      <td>0.124030</td>\n",
       "      <td>0.240262</td>\n",
       "      <td>0.990358</td>\n",
       "      <td>0.206915</td>\n",
       "      <td>1.720750e+01</td>\n",
       "      <td>9.302800</td>\n",
       "      <td>118.597500</td>\n",
       "      <td>8.067850</td>\n",
       "      <td>9.187600</td>\n",
       "      <td>1.000000</td>\n",
       "    </tr>\n",
       "    <tr>\n",
       "      <th>max</th>\n",
       "      <td>2.352300</td>\n",
       "      <td>72.416000</td>\n",
       "      <td>28.336000</td>\n",
       "      <td>6845.800000</td>\n",
       "      <td>1.250100e+06</td>\n",
       "      <td>203.150000</td>\n",
       "      <td>2.352300</td>\n",
       "      <td>6868.500000</td>\n",
       "      <td>37.807000</td>\n",
       "      <td>266.860000</td>\n",
       "      <td>...</td>\n",
       "      <td>1.000000</td>\n",
       "      <td>87.981000</td>\n",
       "      <td>47.788000</td>\n",
       "      <td>308.150000</td>\n",
       "      <td>4.818700e+06</td>\n",
       "      <td>1308.500000</td>\n",
       "      <td>127450.000000</td>\n",
       "      <td>7641.300000</td>\n",
       "      <td>28999.000000</td>\n",
       "      <td>32.000000</td>\n",
       "    </tr>\n",
       "  </tbody>\n",
       "</table>\n",
       "<p>8 rows × 64 columns</p>\n",
       "</div>"
      ],
      "text/plain": [
       "                X1           X2           X3           X4            X5  \\\n",
       "count  4816.000000  4816.000000  4816.000000  4803.000000  4.808000e+03   \n",
       "mean     -0.055232     0.533272     0.188992     4.978602  1.956441e+01   \n",
       "std       6.707351     1.202909     1.282430   100.273952  2.384491e+04   \n",
       "min    -463.890000     0.000000   -72.067000     0.000000 -1.076400e+06   \n",
       "25%       0.004047     0.254670     0.044923     1.099200 -4.312000e+01   \n",
       "50%       0.046487     0.451495     0.218560     1.642300  3.673450e-01   \n",
       "75%       0.116730     0.662177     0.420153     2.929200  4.986775e+01   \n",
       "max       2.352300    72.416000    28.336000  6845.800000  1.250100e+06   \n",
       "\n",
       "                X6           X7           X8           X9          X10  ...  \\\n",
       "count  4816.000000  4816.000000  4804.000000  4818.000000  4816.000000  ...   \n",
       "mean     -0.070060    -0.042516     5.739985     1.579277     0.503606  ...   \n",
       "std       7.778523     6.707970   109.508001     1.342723     4.044036  ...   \n",
       "min    -463.890000  -463.890000    -3.735100     0.000191   -71.444000  ...   \n",
       "25%       0.000000     0.005985     0.481588     1.015600     0.318990  ...   \n",
       "50%       0.000000     0.056685     1.149000     1.140500     0.522325  ...   \n",
       "75%       0.110470     0.136025     2.781300     1.814050     0.721823  ...   \n",
       "max     203.150000     2.352300  6868.500000    37.807000   266.860000  ...   \n",
       "\n",
       "               X56          X57          X58          X59           X60  \\\n",
       "count  4818.000000  4816.000000  4818.000000  4816.000000  4.598000e+03   \n",
       "mean      0.056109     0.022793     0.959585     0.273025  1.108795e+03   \n",
       "std       0.755462     7.249022     0.932427     6.338601  7.106563e+04   \n",
       "min     -46.788000  -468.670000    -0.085920  -184.980000 -1.244000e+01   \n",
       "25%       0.011478     0.015574     0.876940     0.000000  5.298300e+00   \n",
       "50%       0.053663     0.108940     0.950825     0.006320  9.038900e+00   \n",
       "75%       0.124030     0.240262     0.990358     0.206915  1.720750e+01   \n",
       "max       1.000000    87.981000    47.788000   308.150000  4.818700e+06   \n",
       "\n",
       "               X61            X62          X63           X64      missing  \n",
       "count  4806.000000    4818.000000  4803.000000   4735.000000  4818.000000  \n",
       "mean     11.021303     177.494445     9.287631     38.557533     0.776671  \n",
       "std      43.821146    2279.713700   113.225922    588.711967     1.488848  \n",
       "min      -0.092493       0.000000     0.000000     -3.726500     0.000000  \n",
       "25%       4.229925      45.065750     3.074350      2.114850     0.000000  \n",
       "50%       6.176800      73.879500     4.928700      4.077200     0.000000  \n",
       "75%       9.302800     118.597500     8.067850      9.187600     1.000000  \n",
       "max    1308.500000  127450.000000  7641.300000  28999.000000    32.000000  \n",
       "\n",
       "[8 rows x 64 columns]"
      ]
     },
     "execution_count": 124,
     "metadata": {},
     "output_type": "execute_result"
    }
   ],
   "source": [
    "data.describe(include='all') # for scaling"
   ]
  },
  {
   "cell_type": "markdown",
   "metadata": {},
   "source": [
    "***As we can seet that, X62's maximum value is 127450, while some features' max are less than 100, so data scaling is needed, I alway use KNNImpute for missing data this time which is more reasonable than imputation as median or mean***"
   ]
  },
  {
   "cell_type": "code",
   "execution_count": 125,
   "metadata": {},
   "outputs": [],
   "source": [
    "class DataFrameSelector(BaseEstimator, TransformerMixin):\n",
    "    def __init__(self, attribute_names):\n",
    "        self.attribute_names = attribute_names\n",
    "    def fit(self, X, y=None):\n",
    "        return self\n",
    "    def transform(self, X): \n",
    "        return X[self.attribute_names]\n",
    "\n",
    "num_features = data.columns.tolist()[:64]\n",
    "num_pipeline = Pipeline([(\"select_numeric\", DataFrameSelector(num_features)),\n",
    "                        (\"imputer\", KNNImputer(n_neighbors=20)),\n",
    "                         (\"scaling\",StandardScaler())])"
   ]
  },
  {
   "cell_type": "code",
   "execution_count": 126,
   "metadata": {},
   "outputs": [],
   "source": [
    "X_train = num_pipeline.fit_transform(data)"
   ]
  },
  {
   "cell_type": "markdown",
   "metadata": {},
   "source": [
    "### 4. PCA"
   ]
  },
  {
   "cell_type": "code",
   "execution_count": 127,
   "metadata": {},
   "outputs": [],
   "source": [
    "from sklearn.decomposition import PCA"
   ]
  },
  {
   "cell_type": "code",
   "execution_count": 128,
   "metadata": {},
   "outputs": [],
   "source": [
    "pca = PCA(n_components=0.99)\n",
    "X_train_pca = pca.fit_transform(X_train)"
   ]
  },
  {
   "cell_type": "code",
   "execution_count": 129,
   "metadata": {},
   "outputs": [
    {
     "data": {
      "text/plain": [
       "(4818, 30)"
      ]
     },
     "execution_count": 129,
     "metadata": {},
     "output_type": "execute_result"
    }
   ],
   "source": [
    "X_train_pca.shape"
   ]
  },
  {
   "cell_type": "code",
   "execution_count": 130,
   "metadata": {},
   "outputs": [
    {
     "data": {
      "text/plain": [
       "array([0.23, 0.18, 0.12, 0.05, 0.04, 0.03, 0.03, 0.03, 0.03, 0.03, 0.02,\n",
       "       0.02, 0.02, 0.02, 0.02, 0.02, 0.02, 0.02, 0.02, 0.01, 0.01, 0.01,\n",
       "       0.01, 0.01, 0.01, 0.01, 0.  , 0.  , 0.  , 0.  ])"
      ]
     },
     "execution_count": 130,
     "metadata": {},
     "output_type": "execute_result"
    }
   ],
   "source": [
    "pca.explained_variance_ratio_"
   ]
  },
  {
   "cell_type": "markdown",
   "metadata": {},
   "source": [
    "***From here we know that we n-components is equal to 30***"
   ]
  },
  {
   "cell_type": "code",
   "execution_count": 131,
   "metadata": {},
   "outputs": [],
   "source": [
    "pca = PCA(n_components=X_train_pca.shape[1])\n",
    "X_train = pca.fit_transform(X_train)"
   ]
  },
  {
   "cell_type": "markdown",
   "metadata": {},
   "source": [
    "### 5. Fix imbalance problem"
   ]
  },
  {
   "cell_type": "markdown",
   "metadata": {},
   "source": [
    "#### checking Bankrupt following, we find out that the data of Bankrupt is so much imbalanced, the ratio is about 94:6, so rebalance is required in this dataset"
   ]
  },
  {
   "cell_type": "code",
   "execution_count": 132,
   "metadata": {
    "scrolled": true
   },
   "outputs": [
    {
     "data": {
      "image/png": "[encoded data removed]",
      "text/plain": [
       "<Figure size 432x288 with 1 Axes>"
      ]
     },
     "metadata": {},
     "output_type": "display_data"
    }
   ],
   "source": [
    "sns.set(style=\"darkgrid\")\n",
    "ax = sns.countplot(x='Bankrupt',data=df)"
   ]
  },
  {
   "cell_type": "code",
   "execution_count": 133,
   "metadata": {},
   "outputs": [
    {
     "name": "stdout",
     "output_type": "stream",
     "text": [
      "4510\n",
      "308\n"
     ]
    }
   ],
   "source": [
    "print(df[df.Bankrupt == 0].Bankrupt.count())\n",
    "print(df[df.Bankrupt == 1].Bankrupt.count())"
   ]
  },
  {
   "cell_type": "code",
   "execution_count": 134,
   "metadata": {
    "scrolled": true
   },
   "outputs": [
    {
     "name": "stdout",
     "output_type": "stream",
     "text": [
      "0.9360730593607306\n",
      "0.0639269406392694\n"
     ]
    }
   ],
   "source": [
    "print(df[df.Bankrupt == 0].Bankrupt.count()/df.Bankrupt.count())\n",
    "print(df[df.Bankrupt==1].Bankrupt.count()/df.Bankrupt.count())"
   ]
  },
  {
   "cell_type": "markdown",
   "metadata": {},
   "source": [
    "***Since our dataset is not large, I choose over sampling method to fix the imbalance by using SMOTE function***"
   ]
  },
  {
   "cell_type": "code",
   "execution_count": 135,
   "metadata": {},
   "outputs": [],
   "source": [
    "from imblearn.over_sampling import SMOTE"
   ]
  },
  {
   "cell_type": "code",
   "execution_count": 136,
   "metadata": {
    "scrolled": true
   },
   "outputs": [],
   "source": [
    "sm = SMOTE(random_state=12)\n",
    "X_train, y_train = sm.fit_sample(X_train, y_train)"
   ]
  },
  {
   "cell_type": "code",
   "execution_count": 137,
   "metadata": {
    "scrolled": true
   },
   "outputs": [
    {
     "name": "stdout",
     "output_type": "stream",
     "text": [
      "(9020,)\n",
      "(9020, 30)\n",
      "4510\n",
      "4510\n"
     ]
    }
   ],
   "source": [
    "print(y_train.shape)\n",
    "print(X_train.shape)\n",
    "print(y_train[y_train==0].count())\n",
    "print(y_train[y_train==1].count())"
   ]
  },
  {
   "cell_type": "markdown",
   "metadata": {},
   "source": [
    "***As we can see that the number of minority Bankrupt == 1 is equal to 4510, and total number of examples are 9020***"
   ]
  },
  {
   "cell_type": "markdown",
   "metadata": {},
   "source": [
    "### 6.Fit in proper model"
   ]
  },
  {
   "cell_type": "markdown",
   "metadata": {},
   "source": [
    "**I chose random forest because it builds multiple decision trees and merges them together to get a more accurate and stable prediction, we have 63 features in this cases, I believe rf can give us more accurate results**"
   ]
  },
  {
   "cell_type": "code",
   "execution_count": 138,
   "metadata": {},
   "outputs": [
    {
     "name": "stdout",
     "output_type": "stream",
     "text": [
      "Random forest: Avg cross val score = 0.954989\n"
     ]
    }
   ],
   "source": [
    "rf = RandomForestClassifier(n_estimators=100, random_state=42)\n",
    "rf.fit(X_train,y_train)\n",
    "scores = cross_val_score(rf, X_train,y_train, cv=5)\n",
    "model = \"Random forest\"\n",
    "cross_val_avg = np.mean(scores)\n",
    "\n",
    "print(\"{m:s}: Avg cross val score = {sc:3.6f}\".format(m=model, sc=cross_val_avg) )"
   ]
  },
  {
   "cell_type": "code",
   "execution_count": 139,
   "metadata": {},
   "outputs": [],
   "source": [
    "import itertools\n",
    "def plot_confusion_matrix(cm, classes,\n",
    "                          title='Confusion matrix',\n",
    "                          cmap=plt.cm.Blues):\n",
    "    \"\"\"\n",
    "    This function prints and plots the confusion matrix.\n",
    "    \"\"\"\n",
    "    plt.imshow(cm, interpolation='nearest', cmap=cmap)\n",
    "    plt.title(title)\n",
    "    plt.colorbar()\n",
    "    tick_marks = np.arange(len(classes))\n",
    "    plt.xticks(tick_marks, classes, rotation=0)\n",
    "    plt.yticks(tick_marks, classes)\n",
    "\n",
    "    thresh = cm.max() / 2.\n",
    "    for i, j in itertools.product(range(cm.shape[0]), range(cm.shape[1])):\n",
    "        plt.text(j, i, cm[i, j],\n",
    "                 horizontalalignment=\"center\",\n",
    "                 color=\"white\" if cm[i, j] > thresh else \"black\")\n",
    "\n",
    "    plt.tight_layout()\n",
    "    plt.ylabel('True label')\n",
    "    plt.xlabel('Predicted label')"
   ]
  },
  {
   "cell_type": "code",
   "execution_count": 140,
   "metadata": {},
   "outputs": [
    {
     "name": "stdout",
     "output_type": "stream",
     "text": [
      "Random forest: Accuracy = 0.954989\n",
      "Recall metric in the testing dataset:  0.9767184035476718\n"
     ]
    },
    {
     "data": {
      "image/png": "[encoded data removed]",
      "text/plain": [
       "<Figure size 432x288 with 2 Axes>"
      ]
     },
     "metadata": {},
     "output_type": "display_data"
    }
   ],
   "source": [
    "predictions = cross_val_predict(rf, X_train, y_train, cv=5)\n",
    "cm = confusion_matrix(y_train, predictions)\n",
    "accuracy = (cm[0][0]+cm[1][1])/cm.sum()\n",
    "print(\"{m:s}: Accuracy = {a:.6f}\".format(m=model, a=accuracy))\n",
    "\n",
    "# Compute confusion matrix\n",
    "cnf_matrix = confusion_matrix(y_train,predictions)\n",
    "np.set_printoptions(precision=2)\n",
    "\n",
    "print(\"Recall metric in the testing dataset: \", cnf_matrix[1,1]/(cnf_matrix[1,0]+cnf_matrix[1,1]))\n",
    "\n",
    "# Plot non-normalized confusion matrix\n",
    "class_names = [0,1]\n",
    "plt.figure()\n",
    "plot_confusion_matrix(cnf_matrix\n",
    "                      , classes=class_names\n",
    "                      , title='Confusion matrix')\n",
    "plt.show()"
   ]
  },
  {
   "cell_type": "markdown",
   "metadata": {},
   "source": [
    "### 1.2 Change all string types to float type since they are numerical data shown above"
   ]
  },
  {
   "cell_type": "markdown",
   "metadata": {},
   "source": [
    "### 7.Fine tune"
   ]
  },
  {
   "cell_type": "markdown",
   "metadata": {},
   "source": [
    "**Choose the proper n_estimators and max_depth for random forest (I already ran many times, below is the best example)**"
   ]
  },
  {
   "cell_type": "code",
   "execution_count": 141,
   "metadata": {},
   "outputs": [
    {
     "name": "stdout",
     "output_type": "stream",
     "text": [
      "the best accuracy is 0.9562084257206209, and best parameters are {'criterion': 'entropy', 'max_depth': 30, 'n_estimators': 100}\n"
     ]
    }
   ],
   "source": [
    "parameters = [{\"criterion\": [\"gini\", \"entropy\"],\"n_estimators\":[50, 100, 150],\"max_depth\":[20, 30, 40]}]\n",
    "\"\"\"parameters = { \"criterion\" : [\"gini\", \"entropy\"], \n",
    "              \"min_samples_leaf\" : [1, 5, 10, 25, 50, 70], \n",
    "              \"min_samples_split\" : [2, 4, 10, 12, 16, 18, 25, 35], \n",
    "              \"n_estimators\":[10,20,40,60,80,100,120,140,160],\n",
    "              \"max_depth\":[3,4,5,6,7,8,9,10]}\"\"\"\n",
    "grid_search = GridSearchCV(estimator = rf,\n",
    "                          param_grid = parameters,\n",
    "                          scoring = 'accuracy',\n",
    "                          cv = 5,\n",
    "                          n_jobs = -1)\n",
    "grid_search = grid_search.fit(X_train, y_train)\n",
    "best_accuracy = grid_search.best_score_\n",
    "best_parameters =  grid_search.best_params_\n",
    "print('the best accuracy is {0}, and best parameters are {1}'.format(best_accuracy,best_parameters))"
   ]
  },
  {
   "cell_type": "code",
   "execution_count": 142,
   "metadata": {},
   "outputs": [
    {
     "data": {
      "text/plain": [
       "RandomForestClassifier(bootstrap=True, ccp_alpha=0.0, class_weight=None,\n",
       "                       criterion='gini', max_depth=20, max_features='auto',\n",
       "                       max_leaf_nodes=None, max_samples=None,\n",
       "                       min_impurity_decrease=0.0, min_impurity_split=None,\n",
       "                       min_samples_leaf=1, min_samples_split=2,\n",
       "                       min_weight_fraction_leaf=0.0, n_estimators=100,\n",
       "                       n_jobs=None, oob_score=False, random_state=42, verbose=0,\n",
       "                       warm_start=False)"
      ]
     },
     "execution_count": 142,
     "metadata": {},
     "output_type": "execute_result"
    }
   ],
   "source": [
    "rf = RandomForestClassifier(criterion='gini',max_depth=20, n_estimators=100, random_state=42)\n",
    "rf.fit(X_train,y_train)"
   ]
  },
  {
   "cell_type": "markdown",
   "metadata": {},
   "source": [
    "**Change the shreshold of the model and customize our cost function for extra credit**"
   ]
  },
  {
   "cell_type": "code",
   "execution_count": 143,
   "metadata": {},
   "outputs": [],
   "source": [
    "from sklearn.metrics import precision_recall_curve \n",
    "y_scores = rf.predict_proba(X_train)[:, 1]\n",
    "precisions, recalls, thresholds = precision_recall_curve(y_train, y_scores)"
   ]
  },
  {
   "cell_type": "code",
   "execution_count": 144,
   "metadata": {},
   "outputs": [
    {
     "data": {
      "image/png": "[encoded data removed]",
      "text/plain": [
       "<Figure size 576x216 with 1 Axes>"
      ]
     },
     "metadata": {},
     "output_type": "display_data"
    }
   ],
   "source": [
    "from sklearn.metrics import precision_recall_curve\n",
    "\n",
    "# getting the probabilities of our predictions\n",
    "y_scores = rf.predict_proba(X_train)\n",
    "y_scores = y_scores[:,1]\n",
    "\n",
    "precision, recall, threshold = precision_recall_curve(y_train, y_scores)\n",
    "def plot_precision_and_recall(precision, recall, threshold):\n",
    "    plt.plot(threshold, precision[:-1], \"r--\", label=\"precision\", linewidth=5)\n",
    "    plt.plot(threshold, recall[:-1], \"b\", label=\"recall\", linewidth=5)\n",
    "    plt.xlabel(\"threshold\", fontsize=19)\n",
    "    plt.legend(loc=\"upper right\", fontsize=19)\n",
    "    plt.ylim([0, 1])\n",
    "\n",
    "plt.figure(figsize=(8, 3))\n",
    "plot_precision_and_recall(precision, recall, threshold)\n",
    "plt.show()"
   ]
  },
  {
   "cell_type": "markdown",
   "metadata": {},
   "source": [
    "**Here we design our cost function in order to choose the best threshold**"
   ]
  },
  {
   "cell_type": "code",
   "execution_count": 145,
   "metadata": {},
   "outputs": [],
   "source": [
    "y_scores = rf.predict_proba(X_train)\n",
    "\n",
    "threshold = np.arange(0,1,0.01)\n",
    "cost = []\n",
    "\n",
    "for i in range(100):\n",
    "    y_pred = (y_scores[:,1] >= threshold[i]).astype('int')\n",
    "    false_positive = confusion_matrix(y_train, y_pred)[1,0]\n",
    "    false_negative = confusion_matrix(y_train, y_pred)[0,1]\n",
    "    cost.append(100*false_positive + 500*false_negative) # false negative is worse 5 times than false positive\n",
    "\n",
    "ind = np.where(cost == min(cost))\n",
    "thred = threshold[ind[0]]"
   ]
  },
  {
   "cell_type": "code",
   "execution_count": 146,
   "metadata": {
    "scrolled": true
   },
   "outputs": [
    {
     "data": {
      "text/plain": [
       "array([0.47, 0.48, 0.49, 0.5 , 0.51, 0.52, 0.53, 0.54, 0.55, 0.56, 0.57,\n",
       "       0.58, 0.59, 0.6 , 0.61, 0.62, 0.63, 0.64, 0.65, 0.66, 0.67, 0.68])"
      ]
     },
     "execution_count": 146,
     "metadata": {},
     "output_type": "execute_result"
    }
   ],
   "source": [
    "thred"
   ]
  },
  {
   "cell_type": "markdown",
   "metadata": {},
   "source": [
    "***As we can see that, thred contains 0.5, so actually we can use default threshold as 0.5***"
   ]
  },
  {
   "cell_type": "code",
   "execution_count": 147,
   "metadata": {},
   "outputs": [],
   "source": [
    "thred = 0.5"
   ]
  },
  {
   "cell_type": "markdown",
   "metadata": {},
   "source": [
    "## Put all together"
   ]
  },
  {
   "cell_type": "code",
   "execution_count": 148,
   "metadata": {},
   "outputs": [],
   "source": [
    "data_file = \"5th_yr.csv\"\n",
    "DATA_PATH = \"./data/midterm_project/bankruptcy/train\"\n",
    "data = pd.read_csv(os.path.join(DATA_PATH, data_file))"
   ]
  },
  {
   "cell_type": "code",
   "execution_count": 149,
   "metadata": {},
   "outputs": [],
   "source": [
    "from sklearn.decomposition import PCA\n",
    "from imblearn.over_sampling import SMOTE,RandomOverSampler\n",
    "from imblearn.under_sampling import NearMiss\n",
    "from imblearn.ensemble import BalancedBaggingClassifier\n",
    "from imblearn.combine import SMOTEENN"
   ]
  },
  {
   "cell_type": "code",
   "execution_count": 150,
   "metadata": {},
   "outputs": [],
   "source": [
    "y_train = data['Bankrupt']\n",
    "data.drop(columns=['X37','Bankrupt','Id'],inplace=True)\n",
    "data['missing'] = df.isnull().sum(axis=1)"
   ]
  },
  {
   "cell_type": "code",
   "execution_count": 151,
   "metadata": {},
   "outputs": [],
   "source": [
    "class DataFrameSelector(BaseEstimator, TransformerMixin):\n",
    "    def __init__(self, attribute_names):\n",
    "        self.attribute_names = attribute_names\n",
    "    def fit(self, X, y=None):\n",
    "        return self\n",
    "    def transform(self, X): \n",
    "        return X[self.attribute_names]\n",
    "\n",
    "def isnumber(x):\n",
    "    try:\n",
    "        float(x)\n",
    "        return True\n",
    "    except:\n",
    "        return False\n",
    "\n",
    "class isNumber(BaseEstimator,TransformerMixin):\n",
    "    def fit(self, X, y=None):\n",
    "        return self\n",
    "    def transform(self,X):\n",
    "        return X[X.applymap(isnumber)]\n",
    "        \n",
    "\n",
    "class StrToFloat(BaseEstimator, TransformerMixin):\n",
    "    def fit(self,X, y=None):\n",
    "        return self\n",
    "    def transform(self, X, y=None):\n",
    "        X = X.astype(float)\n",
    "        return X\n",
    "\n",
    "num_features = data.columns.tolist()[:64]\n",
    "num_pipeline = Pipeline(steps=[(\"select_numeric\", DataFrameSelector(num_features)),\n",
    "                         (\"toNaN\", isNumber()),\n",
    "                         (\"toFloat\",StrToFloat()),\n",
    "                        (\"imputer\", KNNImputer(n_neighbors=5)),\n",
    "                         (\"scaling\",StandardScaler())])"
   ]
  },
  {
   "cell_type": "code",
   "execution_count": 152,
   "metadata": {},
   "outputs": [],
   "source": [
    "X_train = num_pipeline.fit_transform(data)\n",
    "pca = PCA(n_components=30)\n",
    "X_train = pca.fit_transform(X_train)\n",
    "sm = SMOTE(random_state=12)\n",
    "X_train, y_train = sm.fit_sample(X_train, y_train)"
   ]
  },
  {
   "cell_type": "code",
   "execution_count": 153,
   "metadata": {},
   "outputs": [
    {
     "name": "stdout",
     "output_type": "stream",
     "text": [
      "Random forest: Avg cross val score = 0.956652\n"
     ]
    }
   ],
   "source": [
    "rf = RandomForestClassifier(criterion='gini',max_depth=20, n_estimators=100, random_state=42)\n",
    "rf.fit(X_train,y_train)\n",
    "\n",
    "thred = 0.5\n",
    "\n",
    "scores = cross_val_score(rf, X_train,y_train, cv=5)\n",
    "model = \"Random forest\"\n",
    "cross_val_avg = np.mean(scores)\n",
    "\n",
    "print(\"{m:s}: Avg cross val score = {sc:3.6f}\".format(m=model, sc=cross_val_avg) )"
   ]
  },
  {
   "cell_type": "markdown",
   "metadata": {},
   "source": [
    "## Finally, Create MyModel and Output Predictions"
   ]
  },
  {
   "cell_type": "code",
   "execution_count": 154,
   "metadata": {},
   "outputs": [],
   "source": [
    "def isnumber(x):\n",
    "    try:\n",
    "        float(x)\n",
    "        return True\n",
    "    except:\n",
    "        return False\n",
    "\n",
    "def MyModel(fileName):\n",
    "    TEST_PATH = \"./data/midterm_project/bankruptcy/holdout\"\n",
    "    testFileName = os.path.join(TEST_PATH, data_file)\n",
    "    \n",
    "    # Get data\n",
    "    X_test = pd.read_csv(testFileName)\n",
    "    \n",
    "    # Replace all missing data symbol to NaN\n",
    "    X_test = X_test[X_test.applymap(isnumber)]\n",
    "    \n",
    "    # Change all string type data to numerical data\n",
    "    X_test.loc[:, 'X1':'X64']=X_test.loc[:,'X1':'X64'].apply(lambda x: x.astype(float))\n",
    "    \n",
    "    # Drop X37\n",
    "    X_test.drop(columns=['X37','Id'],inplace=True)\n",
    "    \n",
    "    # Add new features: missing data of each firm\n",
    "    X_test['missing'] = X_test.isnull().sum(axis=1)\n",
    "    \n",
    "    # Transform via num_Pipeline\n",
    "    X_test = num_pipeline.fit_transform(X_test)\n",
    "    \n",
    "    # Decompose PCA:\n",
    "    X_test = pca.fit_transform(X_test)\n",
    "    \n",
    "    # Fit and predit:\n",
    "    y_pred_score = rf.predict_proba(X_test)\n",
    "    y_pred = (y_pred_score[:,1] >= thred).astype('int')\n",
    "    \n",
    "    # Fit in model:\n",
    "    return y_pred"
   ]
  },
  {
   "cell_type": "code",
   "execution_count": 155,
   "metadata": {},
   "outputs": [],
   "source": [
    "y_pred = MyModel(\"5th_yr.csv\")"
   ]
  },
  {
   "cell_type": "code",
   "execution_count": 156,
   "metadata": {},
   "outputs": [
    {
     "name": "stdout",
     "output_type": "stream",
     "text": [
      "1090\n",
      "2\n"
     ]
    }
   ],
   "source": [
    "print(np.sum(y_pred == 0))\n",
    "print(np.sum(y_pred == 1))"
   ]
  },
  {
   "cell_type": "code",
   "execution_count": 157,
   "metadata": {},
   "outputs": [
    {
     "name": "stdout",
     "output_type": "stream",
     "text": [
      "Done!\n"
     ]
    }
   ],
   "source": [
    "print(\"Done!\")"
   ]
  },
  {
   "cell_type": "code",
   "execution_count": null,
   "metadata": {},
   "outputs": [],
   "source": []
  }
 ],
 "metadata": {
  "kernelspec": {
   "display_name": "Python 3",
   "language": "python",
   "name": "python3"
  },
  "language_info": {
   "codemirror_mode": {
    "name": "ipython",
    "version": 3
   },
   "file_extension": ".py",
   "mimetype": "text/x-python",
   "name": "python",
   "nbconvert_exporter": "python",
   "pygments_lexer": "ipython3",
   "version": "3.7.3"
  }
 },
 "nbformat": 4,
 "nbformat_minor": 2
}
