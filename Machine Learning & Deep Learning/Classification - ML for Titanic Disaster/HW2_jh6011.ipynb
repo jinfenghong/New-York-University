{
 "cells": [
  {
   "cell_type": "code",
   "execution_count": 1,
   "metadata": {},
   "outputs": [],
   "source": [
    "import numpy as np\n",
    "import pandas as pd\n",
    "import os\n",
    "import matplotlib.pyplot as plt\n",
    "import seaborn as sns\n",
    "%matplotlib inline"
   ]
  },
  {
   "cell_type": "code",
   "execution_count": 2,
   "metadata": {},
   "outputs": [],
   "source": [
    "from sklearn.model_selection import train_test_split, cross_val_score\n",
    "from sklearn import linear_model, preprocessing, model_selection \n",
    "from sklearn.preprocessing import OneHotEncoder, OrdinalEncoder, LabelEncoder\n",
    "from sklearn.metrics import accuracy_score\n",
    "from sklearn.compose import ColumnTransformer\n",
    "from sklearn.pipeline import Pipeline\n",
    "from sklearn.impute import SimpleImputer \n",
    "from sklearn.base import BaseEstimator, TransformerMixin"
   ]
  },
  {
   "cell_type": "code",
   "execution_count": 3,
   "metadata": {},
   "outputs": [],
   "source": [
    "# Note the use of *relative path*; your assignments should all use relative rather than absolute paths\n",
    "TITANIC_PATH = \"./data\"\n",
    "\n",
    "train_data = pd.read_csv(os.path.join(TITANIC_PATH, \"train.csv\"))\n",
    "test_data  = pd.read_csv(os.path.join(TITANIC_PATH, \"test.csv\"))"
   ]
  },
  {
   "cell_type": "code",
   "execution_count": 4,
   "metadata": {},
   "outputs": [
    {
     "data": {
      "text/html": [
       "<div>\n",
       "<style scoped>\n",
       "    .dataframe tbody tr th:only-of-type {\n",
       "        vertical-align: middle;\n",
       "    }\n",
       "\n",
       "    .dataframe tbody tr th {\n",
       "        vertical-align: top;\n",
       "    }\n",
       "\n",
       "    .dataframe thead th {\n",
       "        text-align: right;\n",
       "    }\n",
       "</style>\n",
       "<table border=\"1\" class=\"dataframe\">\n",
       "  <thead>\n",
       "    <tr style=\"text-align: right;\">\n",
       "      <th></th>\n",
       "      <th>PassengerId</th>\n",
       "      <th>Survived</th>\n",
       "      <th>Pclass</th>\n",
       "      <th>Name</th>\n",
       "      <th>Sex</th>\n",
       "      <th>Age</th>\n",
       "      <th>SibSp</th>\n",
       "      <th>Parch</th>\n",
       "      <th>Ticket</th>\n",
       "      <th>Fare</th>\n",
       "      <th>Cabin</th>\n",
       "      <th>Embarked</th>\n",
       "    </tr>\n",
       "  </thead>\n",
       "  <tbody>\n",
       "    <tr>\n",
       "      <th>0</th>\n",
       "      <td>1</td>\n",
       "      <td>0</td>\n",
       "      <td>3</td>\n",
       "      <td>Braund, Mr. Owen Harris</td>\n",
       "      <td>male</td>\n",
       "      <td>22.0</td>\n",
       "      <td>1</td>\n",
       "      <td>0</td>\n",
       "      <td>A/5 21171</td>\n",
       "      <td>7.2500</td>\n",
       "      <td>NaN</td>\n",
       "      <td>S</td>\n",
       "    </tr>\n",
       "    <tr>\n",
       "      <th>1</th>\n",
       "      <td>2</td>\n",
       "      <td>1</td>\n",
       "      <td>1</td>\n",
       "      <td>Cumings, Mrs. John Bradley (Florence Briggs Th...</td>\n",
       "      <td>female</td>\n",
       "      <td>38.0</td>\n",
       "      <td>1</td>\n",
       "      <td>0</td>\n",
       "      <td>PC 17599</td>\n",
       "      <td>71.2833</td>\n",
       "      <td>C85</td>\n",
       "      <td>C</td>\n",
       "    </tr>\n",
       "    <tr>\n",
       "      <th>2</th>\n",
       "      <td>3</td>\n",
       "      <td>1</td>\n",
       "      <td>3</td>\n",
       "      <td>Heikkinen, Miss. Laina</td>\n",
       "      <td>female</td>\n",
       "      <td>26.0</td>\n",
       "      <td>0</td>\n",
       "      <td>0</td>\n",
       "      <td>STON/O2. 3101282</td>\n",
       "      <td>7.9250</td>\n",
       "      <td>NaN</td>\n",
       "      <td>S</td>\n",
       "    </tr>\n",
       "    <tr>\n",
       "      <th>3</th>\n",
       "      <td>4</td>\n",
       "      <td>1</td>\n",
       "      <td>1</td>\n",
       "      <td>Futrelle, Mrs. Jacques Heath (Lily May Peel)</td>\n",
       "      <td>female</td>\n",
       "      <td>35.0</td>\n",
       "      <td>1</td>\n",
       "      <td>0</td>\n",
       "      <td>113803</td>\n",
       "      <td>53.1000</td>\n",
       "      <td>C123</td>\n",
       "      <td>S</td>\n",
       "    </tr>\n",
       "    <tr>\n",
       "      <th>4</th>\n",
       "      <td>5</td>\n",
       "      <td>0</td>\n",
       "      <td>3</td>\n",
       "      <td>Allen, Mr. William Henry</td>\n",
       "      <td>male</td>\n",
       "      <td>35.0</td>\n",
       "      <td>0</td>\n",
       "      <td>0</td>\n",
       "      <td>373450</td>\n",
       "      <td>8.0500</td>\n",
       "      <td>NaN</td>\n",
       "      <td>S</td>\n",
       "    </tr>\n",
       "  </tbody>\n",
       "</table>\n",
       "</div>"
      ],
      "text/plain": [
       "   PassengerId  Survived  Pclass  \\\n",
       "0            1         0       3   \n",
       "1            2         1       1   \n",
       "2            3         1       3   \n",
       "3            4         1       1   \n",
       "4            5         0       3   \n",
       "\n",
       "                                                Name     Sex   Age  SibSp  \\\n",
       "0                            Braund, Mr. Owen Harris    male  22.0      1   \n",
       "1  Cumings, Mrs. John Bradley (Florence Briggs Th...  female  38.0      1   \n",
       "2                             Heikkinen, Miss. Laina  female  26.0      0   \n",
       "3       Futrelle, Mrs. Jacques Heath (Lily May Peel)  female  35.0      1   \n",
       "4                           Allen, Mr. William Henry    male  35.0      0   \n",
       "\n",
       "   Parch            Ticket     Fare Cabin Embarked  \n",
       "0      0         A/5 21171   7.2500   NaN        S  \n",
       "1      0          PC 17599  71.2833   C85        C  \n",
       "2      0  STON/O2. 3101282   7.9250   NaN        S  \n",
       "3      0            113803  53.1000  C123        S  \n",
       "4      0            373450   8.0500   NaN        S  "
      ]
     },
     "execution_count": 4,
     "metadata": {},
     "output_type": "execute_result"
    }
   ],
   "source": [
    "train_data.head()"
   ]
  },
  {
   "cell_type": "code",
   "execution_count": 5,
   "metadata": {},
   "outputs": [
    {
     "name": "stdout",
     "output_type": "stream",
     "text": [
      "<class 'pandas.core.frame.DataFrame'>\n",
      "RangeIndex: 891 entries, 0 to 890\n",
      "Data columns (total 12 columns):\n",
      "PassengerId    891 non-null int64\n",
      "Survived       891 non-null int64\n",
      "Pclass         891 non-null int64\n",
      "Name           891 non-null object\n",
      "Sex            891 non-null object\n",
      "Age            714 non-null float64\n",
      "SibSp          891 non-null int64\n",
      "Parch          891 non-null int64\n",
      "Ticket         891 non-null object\n",
      "Fare           891 non-null float64\n",
      "Cabin          204 non-null object\n",
      "Embarked       889 non-null object\n",
      "dtypes: float64(2), int64(5), object(5)\n",
      "memory usage: 83.6+ KB\n"
     ]
    }
   ],
   "source": [
    "train_data.info()"
   ]
  },
  {
   "cell_type": "code",
   "execution_count": 6,
   "metadata": {},
   "outputs": [
    {
     "data": {
      "text/html": [
       "<div>\n",
       "<style scoped>\n",
       "    .dataframe tbody tr th:only-of-type {\n",
       "        vertical-align: middle;\n",
       "    }\n",
       "\n",
       "    .dataframe tbody tr th {\n",
       "        vertical-align: top;\n",
       "    }\n",
       "\n",
       "    .dataframe thead th {\n",
       "        text-align: right;\n",
       "    }\n",
       "</style>\n",
       "<table border=\"1\" class=\"dataframe\">\n",
       "  <thead>\n",
       "    <tr style=\"text-align: right;\">\n",
       "      <th></th>\n",
       "      <th>train_NULL</th>\n",
       "      <th>test_NULL</th>\n",
       "    </tr>\n",
       "  </thead>\n",
       "  <tbody>\n",
       "    <tr>\n",
       "      <th>Age</th>\n",
       "      <td>177</td>\n",
       "      <td>86.0</td>\n",
       "    </tr>\n",
       "    <tr>\n",
       "      <th>Cabin</th>\n",
       "      <td>687</td>\n",
       "      <td>327.0</td>\n",
       "    </tr>\n",
       "    <tr>\n",
       "      <th>Embarked</th>\n",
       "      <td>2</td>\n",
       "      <td>0.0</td>\n",
       "    </tr>\n",
       "    <tr>\n",
       "      <th>Fare</th>\n",
       "      <td>0</td>\n",
       "      <td>1.0</td>\n",
       "    </tr>\n",
       "    <tr>\n",
       "      <th>Name</th>\n",
       "      <td>0</td>\n",
       "      <td>0.0</td>\n",
       "    </tr>\n",
       "    <tr>\n",
       "      <th>Parch</th>\n",
       "      <td>0</td>\n",
       "      <td>0.0</td>\n",
       "    </tr>\n",
       "    <tr>\n",
       "      <th>PassengerId</th>\n",
       "      <td>0</td>\n",
       "      <td>0.0</td>\n",
       "    </tr>\n",
       "    <tr>\n",
       "      <th>Pclass</th>\n",
       "      <td>0</td>\n",
       "      <td>0.0</td>\n",
       "    </tr>\n",
       "    <tr>\n",
       "      <th>Sex</th>\n",
       "      <td>0</td>\n",
       "      <td>0.0</td>\n",
       "    </tr>\n",
       "    <tr>\n",
       "      <th>SibSp</th>\n",
       "      <td>0</td>\n",
       "      <td>0.0</td>\n",
       "    </tr>\n",
       "    <tr>\n",
       "      <th>Survived</th>\n",
       "      <td>0</td>\n",
       "      <td>NaN</td>\n",
       "    </tr>\n",
       "    <tr>\n",
       "      <th>Ticket</th>\n",
       "      <td>0</td>\n",
       "      <td>0.0</td>\n",
       "    </tr>\n",
       "  </tbody>\n",
       "</table>\n",
       "</div>"
      ],
      "text/plain": [
       "             train_NULL  test_NULL\n",
       "Age                 177       86.0\n",
       "Cabin               687      327.0\n",
       "Embarked              2        0.0\n",
       "Fare                  0        1.0\n",
       "Name                  0        0.0\n",
       "Parch                 0        0.0\n",
       "PassengerId           0        0.0\n",
       "Pclass                0        0.0\n",
       "Sex                   0        0.0\n",
       "SibSp                 0        0.0\n",
       "Survived              0        NaN\n",
       "Ticket                0        0.0"
      ]
     },
     "execution_count": 6,
     "metadata": {},
     "output_type": "execute_result"
    }
   ],
   "source": [
    "pd.DataFrame({\"train_NULL\":train_data.isnull().sum(),\"test_NULL\":test_data.isnull().sum()})"
   ]
  },
  {
   "cell_type": "markdown",
   "metadata": {},
   "source": [
    "## Graphing Features to Y=Survived"
   ]
  },
  {
   "cell_type": "markdown",
   "metadata": {},
   "source": [
    "### Features = Embarked, Sex, and PClass to Y = Survived"
   ]
  },
  {
   "cell_type": "code",
   "execution_count": 7,
   "metadata": {
    "scrolled": true
   },
   "outputs": [
    {
     "name": "stderr",
     "output_type": "stream",
     "text": [
      "D:\\Anaconda3\\lib\\site-packages\\seaborn\\axisgrid.py:230: UserWarning: The `size` paramter has been renamed to `height`; please update your code.\n",
      "  warnings.warn(msg, UserWarning)\n"
     ]
    },
    {
     "data": {
      "text/plain": [
       "<seaborn.axisgrid.FacetGrid at 0x26d0322a5f8>"
      ]
     },
     "execution_count": 7,
     "metadata": {},
     "output_type": "execute_result"
    },
    {
     "data": {
      "image/png": "[encoded data removed]",
      "text/plain": [
       "<Figure size 588.9x972 with 3 Axes>"
      ]
     },
     "metadata": {
      "needs_background": "light"
     },
     "output_type": "display_data"
    }
   ],
   "source": [
    "FacetGrid = sns.FacetGrid(train_data, row='Embarked', size=4.5, aspect=1.6)\n",
    "FacetGrid.map(sns.pointplot, 'Pclass', 'Survived', 'Sex', palette=None,  order=None, hue_order=None )\n",
    "FacetGrid.add_legend()"
   ]
  },
  {
   "cell_type": "markdown",
   "metadata": {},
   "source": [
    "**From this graph, we could know that male has high survival in Embarked=C, but lower chances to survive in Embarked S and Q, and in general people in PClass = first has high chance to survive that lower PClass, so we could say that Sex, PClass, and Embarked has relation with Survived**"
   ]
  },
  {
   "cell_type": "markdown",
   "metadata": {},
   "source": [
    "### Features = Age, Sex to Y = Curvived"
   ]
  },
  {
   "cell_type": "code",
   "execution_count": 8,
   "metadata": {
    "scrolled": true
   },
   "outputs": [
    {
     "data": {
      "image/png": "[encoded data removed]",
      "text/plain": [
       "<Figure size 720x288 with 2 Axes>"
      ]
     },
     "metadata": {
      "needs_background": "light"
     },
     "output_type": "display_data"
    }
   ],
   "source": [
    "survived = 'survived'\n",
    "not_survived = 'not survived'\n",
    "fig, axes = plt.subplots(nrows=1, ncols=2,figsize=(10, 4))\n",
    "women = train_data[train_data['Sex']=='female']\n",
    "men = train_data[train_data['Sex']=='male']\n",
    "ax = sns.distplot(women[women['Survived']==1].Age.dropna(), bins=18, label = survived, ax = axes[0], kde =False)\n",
    "ax = sns.distplot(women[women['Survived']==0].Age.dropna(), bins=40, label = not_survived, ax = axes[0], kde =False)\n",
    "ax.legend()\n",
    "ax.set_title('Female')\n",
    "ax = sns.distplot(men[men['Survived']==1].Age.dropna(), bins=18, label = survived, ax = axes[1], kde = False)\n",
    "ax = sns.distplot(men[men['Survived']==0].Age.dropna(), bins=40, label = not_survived, ax = axes[1], kde = False)\n",
    "ax.legend()\n",
    "_ = ax.set_title('Male')"
   ]
  },
  {
   "cell_type": "markdown",
   "metadata": {},
   "source": [
    "**men have a high probability of survival when they are between 18 and 30 years old, which is also a little bit true for women but not fully. For women the survival chances are higher between 14 and 40**"
   ]
  },
  {
   "cell_type": "markdown",
   "metadata": {},
   "source": [
    "### Features = PClass to Y = Survived"
   ]
  },
  {
   "cell_type": "code",
   "execution_count": 9,
   "metadata": {},
   "outputs": [
    {
     "data": {
      "text/plain": [
       "<matplotlib.axes._subplots.AxesSubplot at 0x26d03a57320>"
      ]
     },
     "execution_count": 9,
     "metadata": {},
     "output_type": "execute_result"
    },
    {
     "data": {
      "image/png": "[encoded data removed]",
      "text/plain": [
       "<Figure size 432x288 with 1 Axes>"
      ]
     },
     "metadata": {
      "needs_background": "light"
     },
     "output_type": "display_data"
    }
   ],
   "source": [
    "sns.barplot(x='Pclass', y='Survived', data=train_data)"
   ]
  },
  {
   "cell_type": "markdown",
   "metadata": {},
   "source": [
    "**As we can see,class 1 has high probability of survival but 3 has lowest, belows show that the historical graphs that different ages bins has different survival situation in different Pclass**"
   ]
  },
  {
   "cell_type": "code",
   "execution_count": 10,
   "metadata": {},
   "outputs": [
    {
     "name": "stderr",
     "output_type": "stream",
     "text": [
      "D:\\Anaconda3\\lib\\site-packages\\seaborn\\axisgrid.py:230: UserWarning: The `size` paramter has been renamed to `height`; please update your code.\n",
      "  warnings.warn(msg, UserWarning)\n"
     ]
    },
    {
     "data": {
      "image/png": "[encoded data removed]",
      "text/plain": [
       "<Figure size 514.88x475.2 with 6 Axes>"
      ]
     },
     "metadata": {
      "needs_background": "light"
     },
     "output_type": "display_data"
    }
   ],
   "source": [
    "grid = sns.FacetGrid(train_data, col='Survived', row='Pclass', size=2.2, aspect=1.6)\n",
    "grid.map(plt.hist, 'Age', alpha=.5, bins=20)\n",
    "grid.add_legend();"
   ]
  },
  {
   "cell_type": "markdown",
   "metadata": {},
   "source": [
    "### Feature = SibSp or Parch to Y = Survived"
   ]
  },
  {
   "cell_type": "code",
   "execution_count": 11,
   "metadata": {
    "scrolled": true
   },
   "outputs": [
    {
     "data": {
      "text/plain": [
       "<matplotlib.axes._subplots.AxesSubplot at 0x26d03f8eb00>"
      ]
     },
     "execution_count": 11,
     "metadata": {},
     "output_type": "execute_result"
    },
    {
     "data": {
      "image/png": "[encoded data removed]",
      "text/plain": [
       "<Figure size 432x288 with 1 Axes>"
      ]
     },
     "metadata": {
      "needs_background": "light"
     },
     "output_type": "display_data"
    }
   ],
   "source": [
    "sns.barplot(x='SibSp', y='Survived', data=train_data)"
   ]
  },
  {
   "cell_type": "code",
   "execution_count": 12,
   "metadata": {
    "scrolled": true
   },
   "outputs": [
    {
     "data": {
      "text/plain": [
       "<matplotlib.axes._subplots.AxesSubplot at 0x26d039ef080>"
      ]
     },
     "execution_count": 12,
     "metadata": {},
     "output_type": "execute_result"
    },
    {
     "data": {
      "image/png": "[encoded data removed]",
      "text/plain": [
       "<Figure size 432x288 with 1 Axes>"
      ]
     },
     "metadata": {
      "needs_background": "light"
     },
     "output_type": "display_data"
    }
   ],
   "source": [
    "sns.barplot(x='Parch', y='Survived', data=train_data)"
   ]
  },
  {
   "cell_type": "markdown",
   "metadata": {},
   "source": [
    "**As these shown, we know that people who has spouses or siblings numbers between 1 or 2 has the highest chance of survival and with 1 to 3 children or parents or have high chance to survived.**"
   ]
  },
  {
   "cell_type": "markdown",
   "metadata": {},
   "source": [
    "## Conclusion of Analysis\n",
    "By checking the numbers of missing values of each categories in training and test sets, we should,\n",
    "* **drop \"Cabin\" feature because there are too many missing values for imputation, and Cabin is related with passenger's class and fare paid**\n",
    "* **use median age as imputation to the \"Age\"**\n",
    "* **use the most common boarding port as imputation to the \"Embarked\"**\n",
    "* **Ticket may be dropped from our analysis as it contains high ratio of duplicates and there may not be a correlation between Ticket and survival.**\n",
    "* **\"PassengerId\" may be dropped from training dataset as it does not contribute to survival**\n",
    "* **\"Name\" may be dropped because it may not contribute directly to survival, however if the society is caste system and it related to the wealth and Pclass, it should be considered**\n",
    "\n",
    "\n",
    "In conclusion, features we need are (\"Age\", \"SibSp\", \"Parch\", \"Fare\") as numerical features and (\"Pclass\", \"Sex\", \"Embarked\") as categorical feature to analysis the \"Survived.\""
   ]
  },
  {
   "cell_type": "markdown",
   "metadata": {},
   "source": [
    "## Data Preprocessing"
   ]
  },
  {
   "cell_type": "markdown",
   "metadata": {},
   "source": [
    "Drop unnecessary columns"
   ]
  },
  {
   "cell_type": "code",
   "execution_count": 13,
   "metadata": {},
   "outputs": [],
   "source": [
    "# Remove examples where target is not defined\n",
    "train_data = train_data[ train_data[\"Survived\"].notnull() ]\n",
    "\n",
    "# Separate target from features\n",
    "y_train = train_data[\"Survived\"]\n",
    "train_data.drop(columns=[\"Survived\",'Cabin', 'Name', 'Ticket', 'PassengerId'], inplace=True)"
   ]
  },
  {
   "cell_type": "code",
   "execution_count": 14,
   "metadata": {},
   "outputs": [],
   "source": [
    "test_data.drop(columns=['Cabin', 'Name', 'Ticket', 'PassengerId'], inplace=True)"
   ]
  },
  {
   "cell_type": "code",
   "execution_count": 15,
   "metadata": {},
   "outputs": [
    {
     "data": {
      "text/html": [
       "<div>\n",
       "<style scoped>\n",
       "    .dataframe tbody tr th:only-of-type {\n",
       "        vertical-align: middle;\n",
       "    }\n",
       "\n",
       "    .dataframe tbody tr th {\n",
       "        vertical-align: top;\n",
       "    }\n",
       "\n",
       "    .dataframe thead th {\n",
       "        text-align: right;\n",
       "    }\n",
       "</style>\n",
       "<table border=\"1\" class=\"dataframe\">\n",
       "  <thead>\n",
       "    <tr style=\"text-align: right;\">\n",
       "      <th></th>\n",
       "      <th>Pclass</th>\n",
       "      <th>Sex</th>\n",
       "      <th>Age</th>\n",
       "      <th>SibSp</th>\n",
       "      <th>Parch</th>\n",
       "      <th>Fare</th>\n",
       "      <th>Embarked</th>\n",
       "    </tr>\n",
       "  </thead>\n",
       "  <tbody>\n",
       "    <tr>\n",
       "      <th>0</th>\n",
       "      <td>3</td>\n",
       "      <td>male</td>\n",
       "      <td>22.0</td>\n",
       "      <td>1</td>\n",
       "      <td>0</td>\n",
       "      <td>7.2500</td>\n",
       "      <td>S</td>\n",
       "    </tr>\n",
       "    <tr>\n",
       "      <th>1</th>\n",
       "      <td>1</td>\n",
       "      <td>female</td>\n",
       "      <td>38.0</td>\n",
       "      <td>1</td>\n",
       "      <td>0</td>\n",
       "      <td>71.2833</td>\n",
       "      <td>C</td>\n",
       "    </tr>\n",
       "    <tr>\n",
       "      <th>2</th>\n",
       "      <td>3</td>\n",
       "      <td>female</td>\n",
       "      <td>26.0</td>\n",
       "      <td>0</td>\n",
       "      <td>0</td>\n",
       "      <td>7.9250</td>\n",
       "      <td>S</td>\n",
       "    </tr>\n",
       "    <tr>\n",
       "      <th>3</th>\n",
       "      <td>1</td>\n",
       "      <td>female</td>\n",
       "      <td>35.0</td>\n",
       "      <td>1</td>\n",
       "      <td>0</td>\n",
       "      <td>53.1000</td>\n",
       "      <td>S</td>\n",
       "    </tr>\n",
       "    <tr>\n",
       "      <th>4</th>\n",
       "      <td>3</td>\n",
       "      <td>male</td>\n",
       "      <td>35.0</td>\n",
       "      <td>0</td>\n",
       "      <td>0</td>\n",
       "      <td>8.0500</td>\n",
       "      <td>S</td>\n",
       "    </tr>\n",
       "  </tbody>\n",
       "</table>\n",
       "</div>"
      ],
      "text/plain": [
       "   Pclass     Sex   Age  SibSp  Parch     Fare Embarked\n",
       "0       3    male  22.0      1      0   7.2500        S\n",
       "1       1  female  38.0      1      0  71.2833        C\n",
       "2       3  female  26.0      0      0   7.9250        S\n",
       "3       1  female  35.0      1      0  53.1000        S\n",
       "4       3    male  35.0      0      0   8.0500        S"
      ]
     },
     "execution_count": 15,
     "metadata": {},
     "output_type": "execute_result"
    }
   ],
   "source": [
    "train_data.head()"
   ]
  },
  {
   "cell_type": "markdown",
   "metadata": {},
   "source": [
    "## The numeric pipeline\n",
    "\n",
    "- select DataFrame columns identified as Numeric (variable `num_features`)\n",
    "- perform a \"missing value\" transformation\n",
    "    - replace missing value with median value of the feature"
   ]
  },
  {
   "cell_type": "code",
   "execution_count": 16,
   "metadata": {},
   "outputs": [],
   "source": [
    "num_features = [\"Age\", \"SibSp\", \"Parch\", \"Fare\"]\n",
    "num_transformers= Pipeline(steps=[('imputer', SimpleImputer(strategy='median'))])\n",
    "num_pipeline = ColumnTransformer( transformers=[ (\"numeric\", num_transformers, num_features)])"
   ]
  },
  {
   "cell_type": "markdown",
   "metadata": {},
   "source": [
    "## The non-numeric pipeline\n",
    "- select DataFrame columns identified as Categorical (variable `cat_features`)\n",
    "- perform a \"missing value\" transformation\n",
    "    - replace missing value with the value of the feature that occurs most often\n",
    "- perform a \"to categorical\" transformation on `Sex`"
   ]
  },
  {
   "cell_type": "code",
   "execution_count": 17,
   "metadata": {
    "scrolled": true
   },
   "outputs": [],
   "source": [
    "cat_features = [\"Sex\", \"Pclass\",\"Embarked\" ]\n",
    "cat_transformers= Pipeline(steps=[  ('imputer', SimpleImputer(strategy=\"most_frequent\")),\n",
    "                                    ('cat_encoder', OneHotEncoder(sparse=False))\n",
    "                                 ] )\n",
    "cat_pipeline = ColumnTransformer( transformers=[ (\"categorical\", cat_transformers, cat_features) ] )"
   ]
  },
  {
   "cell_type": "markdown",
   "metadata": {},
   "source": [
    "## Combining the numeric and categorical pipelines: `ColumnTransformer`\n",
    "\n",
    "The \"official\" way to combine pipelines in `sklearn` is via the `FeatureUnion`\n",
    "- You must manually select the features of each type\n",
    "- Apply the corresponding Pipelines\n",
    "- \"Glue together\" (horizontally) the results of the Pipelines\n",
    "\n",
    "We will use the experimental `ColumnTransformer`, which combines all these steps"
   ]
  },
  {
   "cell_type": "code",
   "execution_count": 18,
   "metadata": {},
   "outputs": [],
   "source": [
    "preprocess_pipeline = ColumnTransformer(\n",
    "    transformers=[ (\"numeric\", num_transformers, num_features),\n",
    "                   (\"categorical\", cat_transformers, cat_features)])"
   ]
  },
  {
   "cell_type": "code",
   "execution_count": 19,
   "metadata": {},
   "outputs": [],
   "source": [
    "X_train = preprocess_pipeline.fit_transform(train_data)\n",
    "X_test = preprocess_pipeline.fit_transform(test_data)"
   ]
  },
  {
   "cell_type": "markdown",
   "metadata": {},
   "source": [
    "Avoid dummy variable traps, however, the columns deleted do matter to the Avg cross validation score"
   ]
  },
  {
   "cell_type": "code",
   "execution_count": 20,
   "metadata": {},
   "outputs": [],
   "source": [
    "X_train = np.delete(X_train,np.s_[5,8,10],1)\n",
    "X_test = np.delete(X_test,np.s_[5,8,10],1)"
   ]
  },
  {
   "cell_type": "markdown",
   "metadata": {},
   "source": [
    "## Fit model"
   ]
  },
  {
   "cell_type": "code",
   "execution_count": 21,
   "metadata": {
    "scrolled": true
   },
   "outputs": [
    {
     "data": {
      "text/plain": [
       "GaussianNB(priors=None, var_smoothing=1e-09)"
      ]
     },
     "execution_count": 21,
     "metadata": {},
     "output_type": "execute_result"
    }
   ],
   "source": [
    "from sklearn.naive_bayes import GaussianNB\n",
    "classifier = GaussianNB()\n",
    "classifier.fit(X_train,y_train)"
   ]
  },
  {
   "cell_type": "code",
   "execution_count": 22,
   "metadata": {},
   "outputs": [
    {
     "name": "stdout",
     "output_type": "stream",
     "text": [
      "Naive Bayes: Avg cross val score = 0.784606\n"
     ]
    }
   ],
   "source": [
    "scores = cross_val_score(classifier, X_train, y_train, cv=5)\n",
    "model = \"Naive Bayes\"\n",
    "cross_val_avg = np.mean(scores)\n",
    "\n",
    "print(\"{m:s}: Avg cross val score = {sc:3.6f}\".format(m=model, sc=cross_val_avg) )"
   ]
  },
  {
   "cell_type": "code",
   "execution_count": 23,
   "metadata": {},
   "outputs": [],
   "source": [
    "from sklearn.model_selection import cross_val_predict\n",
    "from sklearn.metrics import confusion_matrix"
   ]
  },
  {
   "cell_type": "code",
   "execution_count": 24,
   "metadata": {},
   "outputs": [
    {
     "name": "stdout",
     "output_type": "stream",
     "text": [
      "Naive Bayes: Accuracy = 0.784512\n"
     ]
    }
   ],
   "source": [
    "predictions = cross_val_predict(classifier, X_train, y_train, cv=5)\n",
    "cm = confusion_matrix(y_train, predictions)\n",
    "accuracy = (cm[0][0]+cm[1][1])/cm.sum()\n",
    "print(\"{m:s}: Accuracy = {a:.6f}\".format(m=model, a=accuracy) )"
   ]
  },
  {
   "cell_type": "markdown",
   "metadata": {},
   "source": [
    "## Fine Tune"
   ]
  },
  {
   "cell_type": "code",
   "execution_count": 25,
   "metadata": {},
   "outputs": [],
   "source": [
    "from sklearn.model_selection import GridSearchCV"
   ]
  },
  {
   "cell_type": "code",
   "execution_count": 26,
   "metadata": {},
   "outputs": [
    {
     "name": "stdout",
     "output_type": "stream",
     "text": [
      "the best accuracy is 0.7890011223344556, and best parameters are {'var_smoothing': 1e-05}\n"
     ]
    }
   ],
   "source": [
    "parameters = [{'var_smoothing':[1e-4,1e-5,1e-6,1e-7,1e-8,1e-9,1e-10,1e-11,1e-12]}]\n",
    "grid_search = GridSearchCV(estimator = classifier,\n",
    "                          param_grid = parameters,\n",
    "                          scoring = 'accuracy',\n",
    "                          cv = 5,\n",
    "                          n_jobs = -1)\n",
    "grid_search = grid_search.fit(X_train, y_train)\n",
    "best_accuracy = grid_search.best_score_\n",
    "best_parameters =  grid_search.best_params_\n",
    "print('the best accuracy is {0}, and best parameters are {1}'.format(best_accuracy,best_parameters))"
   ]
  },
  {
   "cell_type": "markdown",
   "metadata": {},
   "source": [
    "***So, the best hyperparameters for Bayes Model in this model is using var_smoothing = 1e-05***"
   ]
  },
  {
   "cell_type": "markdown",
   "metadata": {},
   "source": [
    "# Create a Logistic Regression model with minimal feature engineering\n",
    "\n",
    "Create a Logistic Regression classifier using only transformations that are absolutely necessary,\n",
    "for example\n",
    "- dealing with missing features\n",
    "- categorical transformations"
   ]
  },
  {
   "cell_type": "code",
   "execution_count": 27,
   "metadata": {},
   "outputs": [
    {
     "name": "stdout",
     "output_type": "stream",
     "text": [
      "Logistic Regression, version 0: Avg cross val score = 0.795786\n"
     ]
    }
   ],
   "source": [
    "# New version of sklearn will give a warning if you don't specify a solver (b/c the default solver -- liblinear -- will be replaced in future)\n",
    "logistic = linear_model.LogisticRegression(solver='liblinear')\n",
    "logistic.fit(X_train, y_train)\n",
    "scores = cross_val_score(logistic, X_train, y_train, cv=5)\n",
    "model = \"Logistic Regression, version 0\"\n",
    "cross_val_avg = np.mean(scores)\n",
    "\n",
    "print(\"{m:s}: Avg cross val score = {sc:3.6f}\".format(m=model, sc=cross_val_avg) )"
   ]
  },
  {
   "cell_type": "code",
   "execution_count": 28,
   "metadata": {},
   "outputs": [
    {
     "name": "stdout",
     "output_type": "stream",
     "text": [
      "Logistic Regression, version 0: Accuracy = 0.795735\n"
     ]
    }
   ],
   "source": [
    "predictions = cross_val_predict(logistic, X_train, y_train, cv=5)\n",
    "cm = confusion_matrix(y_train, predictions)\n",
    "accuracy = (cm[0][0]+cm[1][1])/cm.sum()\n",
    "print(\"{m:s}: Accuracy = {a:.6f}\".format(m=model, a=accuracy))"
   ]
  },
  {
   "cell_type": "markdown",
   "metadata": {},
   "source": [
    "## Fine Tune of the Logistic Regression"
   ]
  },
  {
   "cell_type": "code",
   "execution_count": 29,
   "metadata": {},
   "outputs": [
    {
     "name": "stdout",
     "output_type": "stream",
     "text": [
      "the best accuracy is 0.7957351290684624, and best parameters are {'C': 1, 'max_iter': 100, 'penalty': 'l2'}\n"
     ]
    }
   ],
   "source": [
    "parameters = [{'C':[1,10,100,1000],'max_iter':[100,1000,10000],'penalty':['l1','l2']}]\n",
    "grid_search = GridSearchCV(estimator = logistic,\n",
    "                          param_grid = parameters,\n",
    "                          scoring = 'accuracy',\n",
    "                          cv = 5,\n",
    "                          n_jobs = -1)\n",
    "grid_search = grid_search.fit(X_train, y_train)\n",
    "best_accuracy = grid_search.best_score_\n",
    "best_parameters =  grid_search.best_params_\n",
    "print('the best accuracy is {0}, and best parameters are {1}'.format(best_accuracy,best_parameters))"
   ]
  },
  {
   "cell_type": "markdown",
   "metadata": {},
   "source": [
    "***Conclusion: This fine tune shows us that we can use the default hyperparameters that C=1, max_iter=100, penalty = l2***"
   ]
  },
  {
   "cell_type": "markdown",
   "metadata": {},
   "source": [
    "# Perform feature engineering and create another Logistic Regression classifier\n",
    "\n",
    "Use transformations and creation of new features to improve your first Logistic Regression classifier.\n",
    "\n",
    "The first set of  transformations require you to convert `Age` from continuous to buckets/bins.\n",
    "This means choosing how many buckets/bins and what the boundaries are.\n",
    "\n",
    "You will make two different choices for the buckets and report the accuracy of each.\n",
    "You should *clearly explain* why you made the choices that you did (based on logic, Exploratory Data Analysis, etc.).\n",
    "\n",
    "The steps are:\n",
    "- choose a set of buckets and compare your Accuracy out of sample with the first Logistic Regression classifier\n",
    "- choose a *second* set of buckets and compare your Accuracy out of sample with the first Logistic Regression classifier\n",
    "\n",
    "So you will answer two nearly identical questions.  Please report the **best** result in the **second answer**."
   ]
  },
  {
   "cell_type": "code",
   "execution_count": 30,
   "metadata": {},
   "outputs": [],
   "source": [
    "from sklearn.preprocessing import Imputer"
   ]
  },
  {
   "cell_type": "code",
   "execution_count": 31,
   "metadata": {},
   "outputs": [],
   "source": [
    "train_data = pd.read_csv( os.path.join(TITANIC_PATH, \"train.csv\") )\n",
    "train_data['Age'].fillna((train_data['Age'].median()), inplace=True)\n",
    "age_survived = train_data[train_data.Survived == 1].Age\n",
    "age_dead = train_data[train_data.Survived == 0].Age"
   ]
  },
  {
   "cell_type": "code",
   "execution_count": 32,
   "metadata": {
    "scrolled": true
   },
   "outputs": [
    {
     "data": {
      "text/plain": [
       "<matplotlib.legend.Legend at 0x26d0413e438>"
      ]
     },
     "execution_count": 32,
     "metadata": {},
     "output_type": "execute_result"
    },
    {
     "data": {
      "image/png": "[encoded data removed]",
      "text/plain": [
       "<Figure size 432x288 with 1 Axes>"
      ]
     },
     "metadata": {
      "needs_background": "light"
     },
     "output_type": "display_data"
    }
   ],
   "source": [
    "plt.hist([age_survived, age_dead],14, stacked=True, label=['Survived','Dead'])\n",
    "plt.legend()"
   ]
  },
  {
   "cell_type": "code",
   "execution_count": 33,
   "metadata": {},
   "outputs": [],
   "source": [
    "train_data = pd.read_csv( os.path.join(TITANIC_PATH, \"train.csv\") )\n",
    "test_data = pd.read_csv( os.path.join(TITANIC_PATH, \"test.csv\") )"
   ]
  },
  {
   "cell_type": "code",
   "execution_count": 34,
   "metadata": {
    "scrolled": true
   },
   "outputs": [
    {
     "name": "stdout",
     "output_type": "stream",
     "text": [
      "Max Age:  80.0\n",
      "Min Age:  0.42\n"
     ]
    }
   ],
   "source": [
    "print('Max Age: ', train_data.Age.max())\n",
    "print('Min Age: ', train_data.Age.min())"
   ]
  },
  {
   "cell_type": "markdown",
   "metadata": {},
   "source": [
    "**Since the data show us the age range, we can play with it by creating age buckets/bins and treat them as numerical data first**"
   ]
  },
  {
   "cell_type": "code",
   "execution_count": 35,
   "metadata": {},
   "outputs": [],
   "source": [
    "# Separate target from features\n",
    "y_train = train_data[\"Survived\"]\n",
    "train_data.drop(columns=[\"Survived\",'Cabin', 'Name', 'Ticket', 'PassengerId'], inplace=True)\n",
    "test_data.drop(columns=['Cabin', 'Name', 'Ticket', 'PassengerId'], inplace=True)"
   ]
  },
  {
   "cell_type": "code",
   "execution_count": 36,
   "metadata": {},
   "outputs": [],
   "source": [
    "class DataFrameSelector(BaseEstimator, TransformerMixin):\n",
    "    def __init__(self, attribute_names):\n",
    "        self.attribute_names = attribute_names\n",
    "    def fit(self, X, y=None):\n",
    "        return self\n",
    "    def transform(self, X): \n",
    "        return X[self.attribute_names]\n",
    "\n",
    "    \n",
    "# orders of transformations do matter to the analysis!!!!\n",
    "# prepare for categorical pipeline\n",
    "cat_features = [\"Sex\", \"Pclass\",\"Embarked\" ]\n",
    "cat_pipeline = Pipeline([(\"select_cat\", DataFrameSelector(cat_features)),\n",
    "        (\"imputer\", SimpleImputer(strategy=\"most_frequent\")),\n",
    "        (\"cat_encoder\", OneHotEncoder(sparse=False))])\n",
    "    \n",
    "# prepare for numerical pipeline\n",
    "num_features = [\"Age\", \"SibSp\", \"Parch\", \"Fare\"]\n",
    "num_pipeline = Pipeline([(\"select_numeric\", DataFrameSelector( num_features )),\n",
    "                        (\"imputer\", SimpleImputer(strategy=\"median\")),\n",
    "                        ])\n",
    "\n",
    "# combination of two transformation pipeline\n",
    "from sklearn.pipeline import FeatureUnion\n",
    "preprocess_pipeline = FeatureUnion(transformer_list=[(\"num_pipeline\", num_pipeline),(\"cat_pipeline\", cat_pipeline)])"
   ]
  },
  {
   "cell_type": "markdown",
   "metadata": {},
   "source": [
    "**First I will use imputer to fill in the missing data of \"Age\", then use the following transformation to split ages to different bins**"
   ]
  },
  {
   "cell_type": "code",
   "execution_count": 37,
   "metadata": {},
   "outputs": [],
   "source": [
    "class AgetoBins(BaseEstimator, TransformerMixin): # create bins over here\n",
    "    def __init__(self, n=10):\n",
    "        self.n = n\n",
    "    def fit(self,X, y=None):\n",
    "        return self\n",
    "    def transform(self, X, y=None):\n",
    "        X[:,0] = X[:,0] // self.n * self.n\n",
    "        return X"
   ]
  },
  {
   "cell_type": "markdown",
   "metadata": {},
   "source": [
    "**Following case is with 20 bins**"
   ]
  },
  {
   "cell_type": "code",
   "execution_count": 38,
   "metadata": {},
   "outputs": [],
   "source": [
    "AB = AgetoBins(n=20)"
   ]
  },
  {
   "cell_type": "code",
   "execution_count": 39,
   "metadata": {
    "scrolled": true
   },
   "outputs": [],
   "source": [
    "X_train = preprocess_pipeline.fit_transform(train_data)\n",
    "X_test = preprocess_pipeline.fit_transform(test_data)\n",
    "X_train = AB.transform(X_train)\n",
    "X_test = AB.transform(X_test)\n",
    "X_train = np.delete(X_train,np.s_[5,8,10],1)\n",
    "X_test = np.delete(X_test,np.s_[5,8,10],1)"
   ]
  },
  {
   "cell_type": "code",
   "execution_count": 40,
   "metadata": {
    "scrolled": true
   },
   "outputs": [
    {
     "name": "stdout",
     "output_type": "stream",
     "text": [
      "Logistic Regression, version 0: Avg cross val score = 0.793501\n"
     ]
    }
   ],
   "source": [
    "logistic = linear_model.LogisticRegression(solver='liblinear')\n",
    "logistic.fit(X_train, y_train)\n",
    "\n",
    "scores = cross_val_score(logistic, X_train, y_train, cv=5)\n",
    "model = \"Logistic Regression, version 0\"\n",
    "cross_val_avg = np.mean(scores)\n",
    "print(\"{m:s}: Avg cross val score = {sc:3.6f}\".format(m=model, sc=cross_val_avg) )"
   ]
  },
  {
   "cell_type": "code",
   "execution_count": 41,
   "metadata": {},
   "outputs": [
    {
     "name": "stdout",
     "output_type": "stream",
     "text": [
      "Logistic Regression, version 0: Accuracy = 0.793490\n"
     ]
    }
   ],
   "source": [
    "predictions = cross_val_predict(logistic, X_train, y_train, cv=5)\n",
    "cm = confusion_matrix(y_train, predictions)\n",
    "accuracy = (cm[0][0]+cm[1][1])/cm.sum()\n",
    "print(\"{m:s}: Accuracy = {a:.6f}\".format(m=model, a=accuracy))"
   ]
  },
  {
   "cell_type": "markdown",
   "metadata": {},
   "source": [
    "**Following case is with 14 bins which is better**"
   ]
  },
  {
   "cell_type": "code",
   "execution_count": 42,
   "metadata": {},
   "outputs": [],
   "source": [
    "AB2 = AgetoBins(14)"
   ]
  },
  {
   "cell_type": "code",
   "execution_count": 43,
   "metadata": {},
   "outputs": [],
   "source": [
    "X_train = preprocess_pipeline.fit_transform(train_data)\n",
    "X_test = preprocess_pipeline.fit_transform(test_data)\n",
    "X_train = AB2.transform(X_train)\n",
    "X_test = AB2.transform(X_test)\n",
    "X_train = np.delete(X_train,np.s_[5,8,10],1)\n",
    "X_test = np.delete(X_test,np.s_[5,8,10],1)"
   ]
  },
  {
   "cell_type": "code",
   "execution_count": 44,
   "metadata": {},
   "outputs": [
    {
     "name": "stdout",
     "output_type": "stream",
     "text": [
      "Logistic Regression, version 0: Avg cross val score = 0.795786\n"
     ]
    }
   ],
   "source": [
    "logistic = linear_model.LogisticRegression(solver='liblinear')\n",
    "logistic.fit(X_train, y_train)\n",
    "\n",
    "scores = cross_val_score(logistic, X_train, y_train, cv=5)\n",
    "model = \"Logistic Regression, version 0\"\n",
    "cross_val_avg = np.mean(scores)\n",
    "print(\"{m:s}: Avg cross val score = {sc:3.6f}\".format(m=model, sc=cross_val_avg) )"
   ]
  },
  {
   "cell_type": "code",
   "execution_count": 45,
   "metadata": {},
   "outputs": [
    {
     "name": "stdout",
     "output_type": "stream",
     "text": [
      "Logistic Regression, version 0: Accuracy = 0.795735\n"
     ]
    }
   ],
   "source": [
    "predictions = cross_val_predict(logistic, X_train, y_train, cv=5)\n",
    "cm = confusion_matrix(y_train, predictions)\n",
    "accuracy = (cm[0][0]+cm[1][1])/cm.sum()\n",
    "print(\"{m:s}: Accuracy = {a:.6f}\".format(m=model, a=accuracy))"
   ]
  },
  {
   "cell_type": "markdown",
   "metadata": {},
   "source": [
    "## Fine Tune of the Logistic Regression"
   ]
  },
  {
   "cell_type": "code",
   "execution_count": 46,
   "metadata": {},
   "outputs": [
    {
     "name": "stdout",
     "output_type": "stream",
     "text": [
      "the best accuracy is 0.7957351290684624, and best parameters are {'C': 1, 'max_iter': 100, 'penalty': 'l2'}\n"
     ]
    }
   ],
   "source": [
    "parameters = [{'C':[1,10,100,1000],'max_iter':[100,1000,10000],'penalty':['l1','l2']}]\n",
    "grid_search = GridSearchCV(estimator = logistic,\n",
    "                          param_grid = parameters,\n",
    "                          scoring = 'accuracy',\n",
    "                          cv = 5,\n",
    "                          n_jobs = -1)\n",
    "grid_search = grid_search.fit(X_train, y_train)\n",
    "best_accuracy = grid_search.best_score_\n",
    "best_parameters =  grid_search.best_params_\n",
    "print('the best accuracy is {0}, and best parameters are {1}'.format(best_accuracy,best_parameters))"
   ]
  },
  {
   "cell_type": "markdown",
   "metadata": {},
   "source": [
    "***Conlusion: This fine tune shows us that we can use the default hyperparameters that C=1, max_iter=100, penalty = l2***"
   ]
  },
  {
   "cell_type": "markdown",
   "metadata": {},
   "source": [
    "## Age bucket: categorical or numeric ? \n",
    "\n",
    "Using your best bucketing choice (the second one above)\n",
    "- What is the accuracy when you treat the buckets as numeric ?\n",
    "- What is the accuracy when you treat the buckets as categorical ?\n"
   ]
  },
  {
   "cell_type": "markdown",
   "metadata": {},
   "source": [
    "**n = 14 # best numbers of bins we get from above if we cheated it as numerical, and the average cross validation score is 0.795786**"
   ]
  },
  {
   "cell_type": "markdown",
   "metadata": {},
   "source": [
    "**Right now, we treated age buckets as categorical features with 14 bins**\n",
    "* first I only changed the AgetoBins to AgetoBins2\n",
    "* second, we still using num_pipeline above to fill in the missing data in \"Age\" with median\n",
    "* third, use AgetoBins2 to convert ages to different bins\n",
    "* last, transform different age bins to dummy variables and delete one of the columns to avoid dummy trap"
   ]
  },
  {
   "cell_type": "code",
   "execution_count": 47,
   "metadata": {},
   "outputs": [],
   "source": [
    "class AgetoBins2(BaseEstimator, TransformerMixin): # create bins over here\n",
    "    def __init__(self, n=10):\n",
    "        self.n = n\n",
    "    def fit(self,X, y=None):\n",
    "        return self\n",
    "    def transform(self, X, y=None):\n",
    "        X[:,0] = X[:,0] // self.n\n",
    "        return X"
   ]
  },
  {
   "cell_type": "code",
   "execution_count": 48,
   "metadata": {},
   "outputs": [],
   "source": [
    "AB2 = AgetoBins2(14)"
   ]
  },
  {
   "cell_type": "code",
   "execution_count": 49,
   "metadata": {},
   "outputs": [],
   "source": [
    "X_train = preprocess_pipeline.fit_transform(train_data)\n",
    "X_test = preprocess_pipeline.fit_transform(test_data)\n",
    "X_train = AB2.transform(X_train)\n",
    "X_test = AB2.transform(X_test)\n",
    "X_train = np.delete(X_train,np.s_[5,8,10],1)\n",
    "X_test = np.delete(X_test,np.s_[5,8,10],1)"
   ]
  },
  {
   "cell_type": "markdown",
   "metadata": {},
   "source": [
    "**deal with categorical data \"Age\" in X_train and X_test, transform it to be dummy variables and avoid the dummy trap**"
   ]
  },
  {
   "cell_type": "code",
   "execution_count": 50,
   "metadata": {
    "scrolled": true
   },
   "outputs": [
    {
     "name": "stderr",
     "output_type": "stream",
     "text": [
      "D:\\Anaconda3\\lib\\site-packages\\sklearn\\preprocessing\\_encoders.py:371: FutureWarning: The handling of integer data will change in version 0.22. Currently, the categories are determined based on the range [0, max(values)], while in the future they will be determined based on the unique values.\n",
      "If you want the future behaviour and silence this warning, you can specify \"categories='auto'\".\n",
      "In case you used a LabelEncoder before this OneHotEncoder to convert the categories to integers, then you can now use the OneHotEncoder directly.\n",
      "  warnings.warn(msg, FutureWarning)\n",
      "D:\\Anaconda3\\lib\\site-packages\\sklearn\\preprocessing\\_encoders.py:392: DeprecationWarning: The 'categorical_features' keyword is deprecated in version 0.20 and will be removed in 0.22. You can use the ColumnTransformer instead.\n",
      "  \"use the ColumnTransformer instead.\", DeprecationWarning)\n"
     ]
    }
   ],
   "source": [
    "onehotencoder_X = OneHotEncoder(categorical_features=[0])\n",
    "X_train = onehotencoder_X.fit_transform(X_train).toarray()"
   ]
  },
  {
   "cell_type": "code",
   "execution_count": 51,
   "metadata": {},
   "outputs": [],
   "source": [
    "X_train = np.delete(X_train,4,1)"
   ]
  },
  {
   "cell_type": "code",
   "execution_count": 52,
   "metadata": {},
   "outputs": [
    {
     "name": "stdout",
     "output_type": "stream",
     "text": [
      "Logistic Regression, version 0: Avg cross val score = 0.803614\n"
     ]
    }
   ],
   "source": [
    "logistic = linear_model.LogisticRegression(solver='liblinear')\n",
    "logistic.fit(X_train, y_train)\n",
    "\n",
    "scores = cross_val_score(logistic, X_train, y_train, cv=5)\n",
    "model = \"Logistic Regression, version 0\"\n",
    "cross_val_avg = np.mean(scores)\n",
    "print(\"{m:s}: Avg cross val score = {sc:3.6f}\".format(m=model, sc=cross_val_avg) )"
   ]
  },
  {
   "cell_type": "code",
   "execution_count": 53,
   "metadata": {},
   "outputs": [
    {
     "name": "stdout",
     "output_type": "stream",
     "text": [
      "Logistic Regression, version 0: Accuracy = 0.803591\n"
     ]
    }
   ],
   "source": [
    "predictions = cross_val_predict(logistic, X_train, y_train, cv=5)\n",
    "cm = confusion_matrix(y_train, predictions)\n",
    "accuracy = (cm[0][0]+cm[1][1])/cm.sum()\n",
    "print(\"{m:s}: Accuracy = {a:.6f}\".format(m=model, a=accuracy))"
   ]
  },
  {
   "cell_type": "markdown",
   "metadata": {},
   "source": [
    "**As we can see, if we treated Age buckets as categorical data, then the average cross validation score is higher than we treated them as numerical data**"
   ]
  },
  {
   "cell_type": "markdown",
   "metadata": {},
   "source": [
    "## Fine Tune of the Logistic Regression"
   ]
  },
  {
   "cell_type": "code",
   "execution_count": 54,
   "metadata": {},
   "outputs": [
    {
     "name": "stdout",
     "output_type": "stream",
     "text": [
      "the best accuracy is 0.8058361391694725, and best parameters are {'C': 1, 'max_iter': 100, 'penalty': 'l1'}\n"
     ]
    }
   ],
   "source": [
    "parameters = [{'C':[1,10,100,1000],'max_iter':[100,1000,10000],'penalty':['l1','l2']}]\n",
    "grid_search = GridSearchCV(estimator = logistic,\n",
    "                          param_grid = parameters,\n",
    "                          scoring = 'accuracy',\n",
    "                          cv = 5,\n",
    "                          n_jobs = -1)\n",
    "grid_search = grid_search.fit(X_train, y_train)\n",
    "best_accuracy = grid_search.best_score_\n",
    "best_parameters =  grid_search.best_params_\n",
    "print('the best accuracy is {0}, and best parameters are {1}'.format(best_accuracy,best_parameters))"
   ]
  },
  {
   "cell_type": "markdown",
   "metadata": {},
   "source": [
    "***Conclusion: This fine tune shows us that we can use the hyperparameters that C=1, max_iter=100, penalty = l1, so the best accuracy is 0.805836 which is higher than 0.803591***\n",
    "\n",
    "***Note: penalty should change l2 to l1***"
   ]
  },
  {
   "cell_type": "markdown",
   "metadata": {},
   "source": [
    "# (Extra credit)  Perform more feature engineering\n",
    "\n",
    "We will award extra points for each (up to a maximum of 3) transformation  judged to be well thought out.\n",
    "This means that *you must clearly explain* your ideas, experiments and results.\n",
    "\n",
    "**Question**\n",
    "Replace the 0 values in the following cell with your answers, and execute the print statements\n",
    "- Also replace the \"???\" with a description of your feature engineering.\n",
    "\n",
    "Repeat this cell for each new feature engineering/transformation that you submit."
   ]
  },
  {
   "cell_type": "code",
   "execution_count": 55,
   "metadata": {},
   "outputs": [],
   "source": [
    "train_data = pd.read_csv( os.path.join(TITANIC_PATH, \"train.csv\") )\n",
    "test_data = pd.read_csv( os.path.join(TITANIC_PATH, \"test.csv\") )"
   ]
  },
  {
   "cell_type": "markdown",
   "metadata": {},
   "source": [
    "Analysis if we need new features or drop some features, followings are my guess:\n",
    "* we need to drop \"PassengerId\", and \"Ticket\".\n",
    "* May need to combine features, \"SibSp\" and \"Parch\"， maybe exist colinearity, so we delete \"Parch\" first for in case\n",
    "* As guessing, we think people who lived close to \"deck\" had high probability to survive, so we need to do something with \"Cabin\"\n",
    "* Adding \"title\" as a new feature from \"Name\" then, we delete the \"Name\"\n",
    "* \"Fare\" should be converted to buckets because as we know fares are group by different cabins\n",
    "* \"Age\" should be converted to buckets as well"
   ]
  },
  {
   "cell_type": "markdown",
   "metadata": {},
   "source": [
    "1. dropping \"Name\", \"PassengerId\", and \"Ticket\" features"
   ]
  },
  {
   "cell_type": "code",
   "execution_count": 56,
   "metadata": {},
   "outputs": [],
   "source": [
    "train_data.drop(columns=['Ticket', 'PassengerId'], inplace=True)\n",
    "test_data.drop(columns=['Ticket', 'PassengerId'], inplace=True)"
   ]
  },
  {
   "cell_type": "markdown",
   "metadata": {},
   "source": [
    "2. adding new feature,\"relatives\", and analysis if we need it"
   ]
  },
  {
   "cell_type": "code",
   "execution_count": 57,
   "metadata": {},
   "outputs": [],
   "source": [
    "data = [train_data, test_data]\n",
    "for dataset in data:\n",
    "    dataset['relatives'] = dataset['SibSp'] + dataset['Parch']"
   ]
  },
  {
   "cell_type": "code",
   "execution_count": 58,
   "metadata": {},
   "outputs": [
    {
     "name": "stderr",
     "output_type": "stream",
     "text": [
      "D:\\Anaconda3\\lib\\site-packages\\seaborn\\categorical.py:3666: UserWarning: The `factorplot` function has been renamed to `catplot`. The original name will be removed in a future release. Please update your code. Note that the default `kind` in `factorplot` (`'point'`) has changed `'strip'` in `catplot`.\n",
      "  warnings.warn(msg)\n"
     ]
    },
    {
     "data": {
      "image/png": "[encoded data removed]",
      "text/plain": [
       "<Figure size 540x360 with 1 Axes>"
      ]
     },
     "metadata": {
      "needs_background": "light"
     },
     "output_type": "display_data"
    }
   ],
   "source": [
    "axes = sns.factorplot('relatives','Survived', data=train_data, aspect = 1.5)"
   ]
  },
  {
   "cell_type": "markdown",
   "metadata": {},
   "source": [
    "**From here we can know that, people have 1-3 relatives had high probability of surviving, so we create \"relatives\" as our new feature**"
   ]
  },
  {
   "cell_type": "markdown",
   "metadata": {},
   "source": [
    "3. create new feature, \"Deck\", from \"Cabin\" and then drop \"Cabin\"\n",
    "    to create \"Deck\" we need "
   ]
  },
  {
   "cell_type": "code",
   "execution_count": 59,
   "metadata": {},
   "outputs": [],
   "source": [
    "deck = {\"A\": 1, \"B\": 2, \"C\": 3, \"D\": 4, \"E\": 5, \"F\": 6, \"G\": 7, \"U\": 9, \"T\":0,}\n",
    "data = [train_data, test_data]\n",
    "\n",
    "for dataset in data:\n",
    "    dataset['Cabin'] = dataset['Cabin'].fillna(\"U0\")\n",
    "    dataset['deck'] = dataset['Cabin'].map(lambda x: deck[x[0]])\n",
    "# we can now drop the cabin feature\n",
    "train_data.drop(['Cabin'], axis=1, inplace=True)\n",
    "test_data.drop(['Cabin'], axis=1, inplace=True)"
   ]
  },
  {
   "cell_type": "code",
   "execution_count": 60,
   "metadata": {},
   "outputs": [
    {
     "name": "stderr",
     "output_type": "stream",
     "text": [
      "D:\\Anaconda3\\lib\\site-packages\\seaborn\\categorical.py:3666: UserWarning: The `factorplot` function has been renamed to `catplot`. The original name will be removed in a future release. Please update your code. Note that the default `kind` in `factorplot` (`'point'`) has changed `'strip'` in `catplot`.\n",
      "  warnings.warn(msg)\n"
     ]
    },
    {
     "data": {
      "image/png": "[encoded data removed]",
      "text/plain": [
       "<Figure size 540x360 with 1 Axes>"
      ]
     },
     "metadata": {
      "needs_background": "light"
     },
     "output_type": "display_data"
    }
   ],
   "source": [
    "axes = sns.factorplot('deck','Survived', data=train_data, aspect = 1.5)"
   ]
  },
  {
   "cell_type": "markdown",
   "metadata": {},
   "source": [
    "**As we see, deck 2,4,5 had high surviving probabilities**"
   ]
  },
  {
   "cell_type": "markdown",
   "metadata": {},
   "source": [
    "4. Adding \"title\" and delete \"Name\""
   ]
  },
  {
   "cell_type": "code",
   "execution_count": 61,
   "metadata": {},
   "outputs": [],
   "source": [
    "data = [train_data, test_data]\n",
    "titles = {\"Mr\": 1, \"Miss\": 2, \"Mrs\": 3, \"Master\": 4, \"Rare\": 5}\n",
    "\n",
    "for d in data:\n",
    "    # extract titles\n",
    "    d['title'] = d.Name.str.extract(' ([A-Za-z]+)\\.', expand=False)\n",
    "    # replace titles with a more common title or as Rare\n",
    "    d['title'] = d['title'].replace(['Lady', 'Countess','Capt', 'Col','Don', 'Dr',\\\n",
    "                                            'Major', 'Rev', 'Sir', 'Jonkheer', 'Dona'], 'Rare')\n",
    "    d['title'] = d['title'].replace('Mlle', 'Miss')\n",
    "    d['title'] = d['title'].replace('Ms', 'Miss')\n",
    "    d['title'] = d['title'].replace('Mme', 'Mrs')\n",
    "    # convert titles into numbers\n",
    "    d['title'] = d['title'].map(titles)\n",
    "    # filling NaN with 0, to get safe\n",
    "    d['title'] = d['title'].fillna(0)\n",
    "train_data.drop(['Name'], axis=1, inplace=True)\n",
    "test_data.drop(['Name'], axis=1, inplace=True)"
   ]
  },
  {
   "cell_type": "markdown",
   "metadata": {},
   "source": [
    "5. Convert \"Age\" and \"Fare\" to buckets"
   ]
  },
  {
   "cell_type": "code",
   "execution_count": 62,
   "metadata": {},
   "outputs": [
    {
     "data": {
      "image/png": "[encoded data removed]",
      "text/plain": [
       "<Figure size 699.875x216 with 1 Axes>"
      ]
     },
     "metadata": {
      "needs_background": "light"
     },
     "output_type": "display_data"
    }
   ],
   "source": [
    "facet = sns.FacetGrid(train_data, hue = \"Survived\", aspect = 3)\n",
    "facet.map(sns.kdeplot,'Fare',shade = True)\n",
    "facet.set(xlim = (0,train_data['Fare'].max()))\n",
    "plt.xlim(0,100)\n",
    "facet.add_legend()\n",
    "plt.show()"
   ]
  },
  {
   "cell_type": "code",
   "execution_count": 63,
   "metadata": {},
   "outputs": [],
   "source": [
    "y_train = train_data.Survived\n",
    "train_data.drop(['Survived','Parch'], axis=1, inplace=True)"
   ]
  },
  {
   "cell_type": "code",
   "execution_count": 64,
   "metadata": {},
   "outputs": [],
   "source": [
    "class DataFrameSelector(BaseEstimator, TransformerMixin):\n",
    "    def __init__(self, attribute_names):\n",
    "        self.attribute_names = attribute_names\n",
    "    def fit(self, X, y=None):\n",
    "        return self\n",
    "    def transform(self, X): \n",
    "        return X[self.attribute_names]\n",
    "\n",
    "    \n",
    "# orders of transformations do matter to the analysis!!!!\n",
    "# prepare for categorical pipeline\n",
    "cat_features = [\"Sex\", \"Pclass\",\"Embarked\",\"title\"]\n",
    "cat_pipeline = Pipeline([(\"select_cat\", DataFrameSelector(cat_features)),\n",
    "        (\"imputer\", SimpleImputer(strategy=\"most_frequent\")),\n",
    "        (\"cat_encoder\", OneHotEncoder(sparse=False))])\n",
    "    \n",
    "# prepare for numerical pipeline\n",
    "num_features = [\"Age\", \"Fare\", \"relatives\", \"deck\", \"SibSp\"]\n",
    "num_pipeline = Pipeline([(\"select_numeric\", DataFrameSelector( num_features )),\n",
    "                        (\"imputer\", SimpleImputer(strategy=\"median\"))])\n",
    "\n",
    "# combination of two transformation pipeline\n",
    "from sklearn.pipeline import FeatureUnion\n",
    "preprocess_pipeline = FeatureUnion(transformer_list=[(\"num_pipeline\", num_pipeline),(\"cat_pipeline\", cat_pipeline)])"
   ]
  },
  {
   "cell_type": "code",
   "execution_count": 65,
   "metadata": {
    "scrolled": true
   },
   "outputs": [],
   "source": [
    "X_train = preprocess_pipeline.fit_transform(train_data)\n",
    "X_test = preprocess_pipeline.fit_transform(test_data)"
   ]
  },
  {
   "cell_type": "code",
   "execution_count": 66,
   "metadata": {},
   "outputs": [],
   "source": [
    "class toBins3(BaseEstimator, TransformerMixin): # create bins over here\n",
    "    def fit(self,X, y=None):\n",
    "        return self\n",
    "    def transform(self, X, y=None):\n",
    "        X[:,0] = X[:,0] // 14\n",
    "        \n",
    "        X[X[:,1] <= 17, 1] = 0\n",
    "        X[(X[:,1] > 17) & (X[:,1] <= 30), 1] = 1\n",
    "        X[(X[:,1] > 30) & (X[:,1] <= 100), 1] = 2\n",
    "        X[(X[:,1] > 100), 1] = 3\n",
    "        return X"
   ]
  },
  {
   "cell_type": "code",
   "execution_count": 67,
   "metadata": {},
   "outputs": [],
   "source": [
    "AB3 = toBins3()\n",
    "X_train = AB3.transform(X_train)\n",
    "X_test = AB3.transform(X_test)\n",
    "X_train = np.delete(X_train,np.s_[7,10,12],1)\n",
    "X_test = np.delete(X_test,np.s_[7,10,12],1)"
   ]
  },
  {
   "cell_type": "markdown",
   "metadata": {},
   "source": [
    "6. Apply models"
   ]
  },
  {
   "cell_type": "markdown",
   "metadata": {},
   "source": [
    "avoid dummy trap from deleting one column from Age"
   ]
  },
  {
   "cell_type": "code",
   "execution_count": 68,
   "metadata": {},
   "outputs": [
    {
     "name": "stderr",
     "output_type": "stream",
     "text": [
      "D:\\Anaconda3\\lib\\site-packages\\sklearn\\preprocessing\\_encoders.py:371: FutureWarning: The handling of integer data will change in version 0.22. Currently, the categories are determined based on the range [0, max(values)], while in the future they will be determined based on the unique values.\n",
      "If you want the future behaviour and silence this warning, you can specify \"categories='auto'\".\n",
      "In case you used a LabelEncoder before this OneHotEncoder to convert the categories to integers, then you can now use the OneHotEncoder directly.\n",
      "  warnings.warn(msg, FutureWarning)\n",
      "D:\\Anaconda3\\lib\\site-packages\\sklearn\\preprocessing\\_encoders.py:392: DeprecationWarning: The 'categorical_features' keyword is deprecated in version 0.20 and will be removed in 0.22. You can use the ColumnTransformer instead.\n",
      "  \"use the ColumnTransformer instead.\", DeprecationWarning)\n",
      "D:\\Anaconda3\\lib\\site-packages\\sklearn\\preprocessing\\_encoders.py:371: FutureWarning: The handling of integer data will change in version 0.22. Currently, the categories are determined based on the range [0, max(values)], while in the future they will be determined based on the unique values.\n",
      "If you want the future behaviour and silence this warning, you can specify \"categories='auto'\".\n",
      "In case you used a LabelEncoder before this OneHotEncoder to convert the categories to integers, then you can now use the OneHotEncoder directly.\n",
      "  warnings.warn(msg, FutureWarning)\n",
      "D:\\Anaconda3\\lib\\site-packages\\sklearn\\preprocessing\\_encoders.py:392: DeprecationWarning: The 'categorical_features' keyword is deprecated in version 0.20 and will be removed in 0.22. You can use the ColumnTransformer instead.\n",
      "  \"use the ColumnTransformer instead.\", DeprecationWarning)\n"
     ]
    }
   ],
   "source": [
    "onehotencoder_X = OneHotEncoder(categorical_features=[0])\n",
    "X_train = onehotencoder_X.fit_transform(X_train).toarray()\n",
    "X_train = np.delete(X_train,4,1)\n",
    "X_test = onehotencoder_X.fit_transform(X_test).toarray()\n",
    "X_test = np.delete(X_test,4,1)"
   ]
  },
  {
   "cell_type": "markdown",
   "metadata": {},
   "source": [
    "avoid dummy trap from deleting one column from Fare"
   ]
  },
  {
   "cell_type": "code",
   "execution_count": 69,
   "metadata": {},
   "outputs": [
    {
     "name": "stderr",
     "output_type": "stream",
     "text": [
      "D:\\Anaconda3\\lib\\site-packages\\sklearn\\preprocessing\\_encoders.py:371: FutureWarning: The handling of integer data will change in version 0.22. Currently, the categories are determined based on the range [0, max(values)], while in the future they will be determined based on the unique values.\n",
      "If you want the future behaviour and silence this warning, you can specify \"categories='auto'\".\n",
      "In case you used a LabelEncoder before this OneHotEncoder to convert the categories to integers, then you can now use the OneHotEncoder directly.\n",
      "  warnings.warn(msg, FutureWarning)\n",
      "D:\\Anaconda3\\lib\\site-packages\\sklearn\\preprocessing\\_encoders.py:392: DeprecationWarning: The 'categorical_features' keyword is deprecated in version 0.20 and will be removed in 0.22. You can use the ColumnTransformer instead.\n",
      "  \"use the ColumnTransformer instead.\", DeprecationWarning)\n",
      "D:\\Anaconda3\\lib\\site-packages\\sklearn\\preprocessing\\_encoders.py:371: FutureWarning: The handling of integer data will change in version 0.22. Currently, the categories are determined based on the range [0, max(values)], while in the future they will be determined based on the unique values.\n",
      "If you want the future behaviour and silence this warning, you can specify \"categories='auto'\".\n",
      "In case you used a LabelEncoder before this OneHotEncoder to convert the categories to integers, then you can now use the OneHotEncoder directly.\n",
      "  warnings.warn(msg, FutureWarning)\n",
      "D:\\Anaconda3\\lib\\site-packages\\sklearn\\preprocessing\\_encoders.py:392: DeprecationWarning: The 'categorical_features' keyword is deprecated in version 0.20 and will be removed in 0.22. You can use the ColumnTransformer instead.\n",
      "  \"use the ColumnTransformer instead.\", DeprecationWarning)\n"
     ]
    }
   ],
   "source": [
    "onehotencoder_X = OneHotEncoder(categorical_features=[5])\n",
    "X_train = onehotencoder_X.fit_transform(X_train).toarray()\n",
    "X_train = np.delete(X_train,8,1)\n",
    "X_test = onehotencoder_X.fit_transform(X_test).toarray()\n",
    "X_test = np.delete(X_test,8,1)"
   ]
  },
  {
   "cell_type": "markdown",
   "metadata": {},
   "source": [
    "avoid dummy trap from deleting one column from title"
   ]
  },
  {
   "cell_type": "code",
   "execution_count": 70,
   "metadata": {},
   "outputs": [],
   "source": [
    "X_train = np.delete(X_train,-3,1)\n",
    "X_test = np.delete(X_test,-3,1)"
   ]
  },
  {
   "cell_type": "code",
   "execution_count": 71,
   "metadata": {},
   "outputs": [
    {
     "name": "stdout",
     "output_type": "stream",
     "text": [
      "Logistic Regression, version 0: Avg cross val score = 0.817078\n"
     ]
    }
   ],
   "source": [
    "logistic = linear_model.LogisticRegression(solver='liblinear')\n",
    "logistic.fit(X_train, y_train)\n",
    "\n",
    "scores = cross_val_score(logistic, X_train, y_train, cv=5)\n",
    "model = \"Logistic Regression, version 0\"\n",
    "cross_val_avg = np.mean(scores)\n",
    "print(\"{m:s}: Avg cross val score = {sc:3.6f}\".format(m=model, sc=cross_val_avg) )"
   ]
  },
  {
   "cell_type": "code",
   "execution_count": 72,
   "metadata": {},
   "outputs": [
    {
     "name": "stdout",
     "output_type": "stream",
     "text": [
      "Logistic Regression, version 0: Accuracy = 0.817059\n"
     ]
    }
   ],
   "source": [
    "predictions = cross_val_predict(logistic, X_train, y_train, cv=5)\n",
    "cm = confusion_matrix(y_train, predictions)\n",
    "accuracy = (cm[0][0]+cm[1][1])/cm.sum()\n",
    "print(\"{m:s}: Accuracy = {a:.6f}\".format(m=model, a=accuracy))"
   ]
  },
  {
   "cell_type": "markdown",
   "metadata": {},
   "source": [
    "## Fine Tune of the Logistic Regression"
   ]
  },
  {
   "cell_type": "code",
   "execution_count": 73,
   "metadata": {},
   "outputs": [
    {
     "name": "stdout",
     "output_type": "stream",
     "text": [
      "the best accuracy is 0.8170594837261503, and best parameters are {'C': 1, 'max_iter': 100, 'penalty': 'l2'}\n"
     ]
    }
   ],
   "source": [
    "parameters = [{'C':[1,10,100,1000],'max_iter':[100,1000,10000],'penalty':['l1','l2']}]\n",
    "grid_search = GridSearchCV(estimator = logistic,\n",
    "                          param_grid = parameters,\n",
    "                          scoring = 'accuracy',\n",
    "                          cv = 5,\n",
    "                          n_jobs = -1)\n",
    "grid_search = grid_search.fit(X_train, y_train)\n",
    "best_accuracy = grid_search.best_score_\n",
    "best_parameters =  grid_search.best_params_\n",
    "print('the best accuracy is {0}, and best parameters are {1}'.format(best_accuracy,best_parameters))"
   ]
  },
  {
   "cell_type": "markdown",
   "metadata": {},
   "source": [
    "***Conclusion: This fine tune shows us that we can use the default hyperparameters that C=1, max_iter=100, penalty = l2***"
   ]
  },
  {
   "cell_type": "markdown",
   "metadata": {},
   "source": [
    "# (Extra, extra credit) Contest !\n",
    "\n",
    "Come up with your best model for the Titanic !  Use any model and whatever feature engineering you'd like.\n",
    "\n",
    "We will evaluate your model on a held-out dataset.  Top scorers will get extra credit.\n",
    "\n",
    "## Rules\n",
    "- You *may not* include any packages that are not part of the standard installation\n",
    "    - they won't run on the grader's machine\n",
    "- Your feature engineering *must* deal with missing data for all attributes\n",
    "    - the evaluation set *will* have missing values for some features\n",
    "    \n",
    "\n",
    "**Question**\n",
    "Replace the 0 values in the following cell with your answers, and execute the print statements"
   ]
  },
  {
   "cell_type": "markdown",
   "metadata": {},
   "source": [
    "## I will use my data in Extra credit part"
   ]
  },
  {
   "cell_type": "markdown",
   "metadata": {},
   "source": [
    "**here I compare five models results, and I choose the highest score one as my final training model**"
   ]
  },
  {
   "cell_type": "code",
   "execution_count": 74,
   "metadata": {},
   "outputs": [
    {
     "name": "stdout",
     "output_type": "stream",
     "text": [
      "Model: Logistic avg cross val score=0.817078\n",
      "\n",
      "Model: SVM avg cross val score=0.827184\n",
      "\n",
      "Model: Random Forest avg cross val score=0.816036\n",
      "\n",
      "Model: Decision Tree avg cross val score=0.802553\n",
      "\n",
      "Model: KNN avg cross val score=0.811497\n",
      "\n"
     ]
    }
   ],
   "source": [
    "from sklearn.tree import DecisionTreeClassifier\n",
    "from sklearn.ensemble import RandomForestClassifier\n",
    "from sklearn.svm import SVC\n",
    "from sklearn.neighbors import KNeighborsClassifier\n",
    "\n",
    "DecisionTree = DecisionTreeClassifier()\n",
    "forest = RandomForestClassifier(n_estimators=100, random_state=42)\n",
    "svm = SVC(gamma=\"auto\")\n",
    "KNN = KNeighborsClassifier(n_neighbors = 13)\n",
    "\n",
    "for name, clf in {\"Logistic\": logistic,\"SVM\": svm,\"Random Forest\": forest,\"Decision Tree\": DecisionTree,\"KNN\": KNN}.items():\n",
    "    _= clf.fit(X_train, y_train)\n",
    "\n",
    "    scores = cross_val_score(clf, X_train, y_train, cv=5)\n",
    "    print(\"Model: {m:s} avg cross val score={s:3.6f}\\n\".format(m=name, s=scores.mean()) )"
   ]
  },
  {
   "cell_type": "markdown",
   "metadata": {},
   "source": [
    "**Since SVM model gave me the highest average cross validation score, I will use this model as my final model**"
   ]
  },
  {
   "cell_type": "code",
   "execution_count": 75,
   "metadata": {},
   "outputs": [
    {
     "name": "stdout",
     "output_type": "stream",
     "text": [
      "Titanic contest: Avg cross val score = 0.827184\n",
      "Logistic Regression, version 0: Accuracy = 0.827160\n"
     ]
    }
   ],
   "source": [
    "title = \"Titanic contest\"\n",
    "scores = cross_val_score(svm, X_train, y_train, cv=5)\n",
    "model = \"Logistic Regression, version 0\"\n",
    "cross_val_avg = np.mean(scores)\n",
    "print(\"{m:s}: Avg cross val score = {sc:3.6f}\".format(m=title, sc=cross_val_avg))\n",
    "\n",
    "predictions = cross_val_predict(svm, X_train, y_train, cv=5)\n",
    "cm = confusion_matrix(y_train, predictions)\n",
    "accuracy = (cm[0][0]+cm[1][1])/cm.sum()\n",
    "print(\"{m:s}: Accuracy = {a:.6f}\".format(m=model, a=accuracy))"
   ]
  },
  {
   "cell_type": "markdown",
   "metadata": {},
   "source": [
    "## Fine Tune of the SVM\n"
   ]
  },
  {
   "cell_type": "code",
   "execution_count": 76,
   "metadata": {},
   "outputs": [
    {
     "name": "stdout",
     "output_type": "stream",
     "text": [
      "the best accuracy is 0.8294051627384961, and best parameters are {'C': 10, 'gamma': 0.01, 'kernel': 'rbf'}\n"
     ]
    }
   ],
   "source": [
    "parameters = [{'C':[1,10,100,1000],'kernel':['linear']},\n",
    "              {'C':[1,10,100,1000],'kernel':['rbf'],'gamma':[0.5,0.1,0.01,0.001,0.0001]},\n",
    "             {'C':[1,10,100,1000],'kernel':['rbf'],'gamma':[0.01,0.02,0.03,0.04,0.05,0.06,0.07,0.08,0.09]}]\n",
    "grid_search = GridSearchCV(estimator = svm,\n",
    "                          param_grid = parameters,\n",
    "                          scoring = 'accuracy',\n",
    "                          cv = 5,\n",
    "                          n_jobs = -1)\n",
    "grid_search = grid_search.fit(X_train, y_train)\n",
    "best_accuracy = grid_search.best_score_\n",
    "best_parameters =  grid_search.best_params_\n",
    "print('the best accuracy is {0}, and best parameters are {1}'.format(best_accuracy,best_parameters))"
   ]
  },
  {
   "cell_type": "markdown",
   "metadata": {},
   "source": [
    "***Conclusion: the best hyperparameters are C= 10, gamma = 0.01, kernel = rbf; from that our accuracy increases to 0.829405 from 0.827194***"
   ]
  },
  {
   "cell_type": "code",
   "execution_count": 77,
   "metadata": {},
   "outputs": [
    {
     "name": "stdout",
     "output_type": "stream",
     "text": [
      "Done!\n"
     ]
    }
   ],
   "source": [
    "print(\"Done!\")"
   ]
  }
 ],
 "metadata": {
  "kernelspec": {
   "display_name": "Python 3",
   "language": "python",
   "name": "python3"
  },
  "language_info": {
   "codemirror_mode": {
    "name": "ipython",
    "version": 3
   },
   "file_extension": ".py",
   "mimetype": "text/x-python",
   "name": "python",
   "nbconvert_exporter": "python",
   "pygments_lexer": "ipython3",
   "version": "3.7.6"
  }
 },
 "nbformat": 4,
 "nbformat_minor": 2
}
